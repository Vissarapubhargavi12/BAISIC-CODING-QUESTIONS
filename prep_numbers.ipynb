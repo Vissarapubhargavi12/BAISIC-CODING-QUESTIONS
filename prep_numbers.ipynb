{
  "nbformat": 4,
  "nbformat_minor": 0,
  "metadata": {
    "colab": {
      "provenance": [],
      "authorship_tag": "ABX9TyPytVQFMWwwPEYkeJS+8Q8v",
      "include_colab_link": true
    },
    "kernelspec": {
      "name": "python3",
      "display_name": "Python 3"
    },
    "language_info": {
      "name": "python"
    }
  },
  "cells": [
    {
      "cell_type": "markdown",
      "metadata": {
        "id": "view-in-github",
        "colab_type": "text"
      },
      "source": [
        "<a href=\"https://colab.research.google.com/github/Vissarapubhargavi12/BAISIC-CODING-QUESTIONS/blob/main/prep_numbers.ipynb\" target=\"_parent\"><img src=\"https://colab.research.google.com/assets/colab-badge.svg\" alt=\"Open In Colab\"/></a>"
      ]
    },
    {
      "cell_type": "code",
      "execution_count": null,
      "metadata": {
        "id": "1eRh3oXFc5Hf"
      },
      "outputs": [],
      "source": []
    },
    {
      "cell_type": "markdown",
      "source": [
        "HCF (HIGHEST COMMON FACTORR) OR GREATEST COMMON FACTOR"
      ],
      "metadata": {
        "id": "k2P3NVxLc5yC"
      }
    },
    {
      "cell_type": "code",
      "source": [
        "num1=70\n",
        "num2=48\n",
        "hcf=1\n",
        "for i in range(2,min(num1,num2)):\n",
        "    if num1%i==0 and num2%i==0:\n",
        "        hcf=i\n",
        "print(\"HCF of\", num1, \"and\", num2, \"is\", hcf)\n",
        "\n"
      ],
      "metadata": {
        "colab": {
          "base_uri": "https://localhost:8080/"
        },
        "id": "sOODNCWRdG6S",
        "outputId": "22dcede0-de1a-4a65-e00d-36d097bf75d3"
      },
      "execution_count": 9,
      "outputs": [
        {
          "output_type": "stream",
          "name": "stdout",
          "text": [
            "HCF of 70 and 48 is 2\n"
          ]
        }
      ]
    },
    {
      "cell_type": "markdown",
      "source": [
        "USING FUNCTION HCF"
      ],
      "metadata": {
        "id": "vcYh6makfos5"
      }
    },
    {
      "cell_type": "code",
      "source": [
        "def findHCF(num1, num2):\n",
        "    if num1 == 0 or num2 == 0:\n",
        "        return num1 + num2\n",
        "    if num1 == num2:\n",
        "        return num1\n",
        "    if num1 > num2:\n",
        "        return findHCF(num1 - num2, num2)\n",
        "    else:\n",
        "        return findHCF(num1, num2 - num1)\n",
        "\n",
        "\n",
        "num1 = 36\n",
        "num2 = 60\n",
        "\n",
        "print(\"Hcf of\", num1, \"and\", num2, \"is\", findHCF(num1, num2))"
      ],
      "metadata": {
        "colab": {
          "base_uri": "https://localhost:8080/"
        },
        "id": "3Lb_7jWkiMY3",
        "outputId": "76c480a5-3c00-4a36-d5fe-2d2c482fd721"
      },
      "execution_count": 10,
      "outputs": [
        {
          "output_type": "stream",
          "name": "stdout",
          "text": [
            "Hcf of 36 and 60 is 12\n"
          ]
        }
      ]
    },
    {
      "cell_type": "code",
      "source": [
        "num1=70\n",
        "num2=48\n",
        "lcf=1\n",
        "for i in range(2,min(num1,num2)):\n",
        "    if num1%i==0 and num2%i==0:\n",
        "        lcf=i\n",
        "print(\"lcf of\", num1, \"and\", num2, \"is\", lcf)"
      ],
      "metadata": {
        "colab": {
          "base_uri": "https://localhost:8080/"
        },
        "id": "SwsgGU3Jl50q",
        "outputId": "c4451df3-e7ed-4090-a63f-40bbce757955"
      },
      "execution_count": 11,
      "outputs": [
        {
          "output_type": "stream",
          "name": "stdout",
          "text": [
            "lcf of 70 and 48 is 2\n"
          ]
        }
      ]
    },
    {
      "cell_type": "markdown",
      "source": [
        "LCM(LEAST COMMON FACTOR)"
      ],
      "metadata": {
        "id": "PISLYNDImZ34"
      }
    },
    {
      "cell_type": "code",
      "source": [
        "def findLCF(num1, num2):\n",
        "    if num1 == num2:\n",
        "        return num1\n",
        "    else:\n",
        "        return 1\n",
        "\n",
        "num1 = 15\n",
        "num2 = 20\n",
        "\n",
        "print(\"LCF of\", num1, \"and\", num2, \"is\", findLCF(num1, num2))\n"
      ],
      "metadata": {
        "colab": {
          "base_uri": "https://localhost:8080/"
        },
        "id": "_-WX1L5Vmjjo",
        "outputId": "7540a62c-320d-4bec-b6f3-09fb584f561c"
      },
      "execution_count": 12,
      "outputs": [
        {
          "output_type": "stream",
          "name": "stdout",
          "text": [
            "LCF of 15 and 20 is 1\n"
          ]
        }
      ]
    },
    {
      "cell_type": "markdown",
      "source": [
        "LCM (LOWEST COMMON MULTIPLY)"
      ],
      "metadata": {
        "id": "bjORIq-WnMt8"
      }
    },
    {
      "cell_type": "code",
      "source": [
        "num1 = 12\n",
        "num2 = 14\n",
        "for i in range(max(num1, num2), 1 + (num1 * num2)):\n",
        "    if i % num1 == i % num2 == 0:\n",
        "        lcm = i\n",
        "        break\n",
        "print(\"LCM of\", num1, \"and\", num2, \"is\", lcm)"
      ],
      "metadata": {
        "colab": {
          "base_uri": "https://localhost:8080/"
        },
        "id": "YJ_ig8V5nOSJ",
        "outputId": "71bb8aa3-6995-47c0-ed0e-cb1a8fdf0465"
      },
      "execution_count": 13,
      "outputs": [
        {
          "output_type": "stream",
          "name": "stdout",
          "text": [
            "LCM of 12 and 14 is 84\n"
          ]
        }
      ]
    }
  ]
}