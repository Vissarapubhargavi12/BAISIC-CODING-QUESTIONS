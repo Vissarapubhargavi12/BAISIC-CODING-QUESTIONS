{
  "nbformat": 4,
  "nbformat_minor": 0,
  "metadata": {
    "colab": {
      "provenance": [],
      "authorship_tag": "ABX9TyOZiFi33sN2+MrJkIeCz+sY",
      "include_colab_link": true
    },
    "kernelspec": {
      "name": "python3",
      "display_name": "Python 3"
    },
    "language_info": {
      "name": "python"
    }
  },
  "cells": [
    {
      "cell_type": "markdown",
      "metadata": {
        "id": "view-in-github",
        "colab_type": "text"
      },
      "source": [
        "<a href=\"https://colab.research.google.com/github/Vissarapubhargavi12/BAISIC-CODING-QUESTIONS/blob/main/STRINGS.ipynb\" target=\"_parent\"><img src=\"https://colab.research.google.com/assets/colab-badge.svg\" alt=\"Open In Colab\"/></a>"
      ]
    },
    {
      "cell_type": "markdown",
      "source": [
        "FIND VOWEL OR CONSONANTS"
      ],
      "metadata": {
        "id": "riGXbgtr7LK3"
      }
    },
    {
      "cell_type": "code",
      "source": [
        "a=input()\n",
        "v=0\n",
        "c=0\n",
        "for i in a:\n",
        "  if(i=='a'or i=='e'or i=='i'or i=='o'or i=='u'):\n",
        "    v+=1\n",
        "  else:\n",
        "    c+=1\n",
        "print(\"vowel\",v)\n",
        "print(\"consonant\",c)"
      ],
      "metadata": {
        "colab": {
          "base_uri": "https://localhost:8080/"
        },
        "id": "4yEXr9la7LlR",
        "outputId": "4c6f4cb1-7bf7-4d97-811a-4e087220116e"
      },
      "execution_count": 4,
      "outputs": [
        {
          "output_type": "stream",
          "name": "stdout",
          "text": [
            "bhargavi\n",
            "vowel 3\n",
            "consonant 5\n"
          ]
        }
      ]
    },
    {
      "cell_type": "markdown",
      "source": [
        "ALPHABET OR NOT"
      ],
      "metadata": {
        "id": "DfAnGVHZ96nx"
      }
    },
    {
      "cell_type": "code",
      "source": [
        "d=input()\n",
        "if'a'<=d<='z'or 'A'<=d<='z':\n",
        "  print(\"alphabet\",d)\n",
        "else:\n",
        "  print(\"not alphabet\",d)"
      ],
      "metadata": {
        "colab": {
          "base_uri": "https://localhost:8080/"
        },
        "id": "IRkG5Pog967r",
        "outputId": "713d2b98-8871-42ac-b872-17311ac6da22"
      },
      "execution_count": 9,
      "outputs": [
        {
          "output_type": "stream",
          "name": "stdout",
          "text": [
            "bhshdyu\n",
            "alphabet bhshdyu\n"
          ]
        }
      ]
    },
    {
      "cell_type": "markdown",
      "source": [
        "FIND THE ASSICE VALUES"
      ],
      "metadata": {
        "id": "mud_om1pAdF-"
      }
    },
    {
      "cell_type": "code",
      "source": [
        "a=input()\n",
        "b=ord(a)\n",
        "print(b)"
      ],
      "metadata": {
        "colab": {
          "base_uri": "https://localhost:8080/"
        },
        "id": "k2roXCMnAdcg",
        "outputId": "b2e9c60e-6401-4430-c4bd-a31cf2f6b6e0"
      },
      "execution_count": 13,
      "outputs": [
        {
          "output_type": "stream",
          "name": "stdout",
          "text": [
            "k\n",
            "107\n"
          ]
        }
      ]
    },
    {
      "cell_type": "markdown",
      "source": [
        "STRING LENGTH"
      ],
      "metadata": {
        "id": "cTYIvQTCBJm3"
      }
    },
    {
      "cell_type": "code",
      "source": [
        "s=input()\n",
        "l=0\n",
        "for i in s:\n",
        "  l+=1\n",
        "  print(l)"
      ],
      "metadata": {
        "colab": {
          "base_uri": "https://localhost:8080/"
        },
        "id": "j1o6X_fxBKB9",
        "outputId": "f34d077f-3c93-4e8f-faeb-192124c0d8df"
      },
      "execution_count": 14,
      "outputs": [
        {
          "output_type": "stream",
          "name": "stdout",
          "text": [
            "bharu\n",
            "1\n",
            "2\n",
            "3\n",
            "4\n",
            "5\n"
          ]
        }
      ]
    },
    {
      "cell_type": "markdown",
      "source": [
        "UPPER OR LOWER"
      ],
      "metadata": {
        "id": "D2DoHyH-C4u5"
      }
    },
    {
      "cell_type": "code",
      "source": [
        "str=input()\n",
        "str1=\" \"\n",
        "for i in str:\n",
        "  if i.upper():\n",
        "    i=i.lower()\n",
        "    str1+=i\n",
        "  else:\n",
        "    i=i.upper()\n",
        "    str1+=i\n",
        "print(str1)"
      ],
      "metadata": {
        "colab": {
          "base_uri": "https://localhost:8080/"
        },
        "id": "Sq5m-BdwC5JX",
        "outputId": "dfca3d8d-69c8-40c1-bbbf-6080621595c6"
      },
      "execution_count": 19,
      "outputs": [
        {
          "output_type": "stream",
          "name": "stdout",
          "text": [
            "BHargAVi\n",
            " bhargavi\n"
          ]
        }
      ]
    }
  ]
}