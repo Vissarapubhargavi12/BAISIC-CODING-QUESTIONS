{
  "nbformat": 4,
  "nbformat_minor": 0,
  "metadata": {
    "colab": {
      "provenance": [],
      "authorship_tag": "ABX9TyOck63ab/bKbo9IcpJVmSol",
      "include_colab_link": true
    },
    "kernelspec": {
      "name": "python3",
      "display_name": "Python 3"
    },
    "language_info": {
      "name": "python"
    }
  },
  "cells": [
    {
      "cell_type": "markdown",
      "metadata": {
        "id": "view-in-github",
        "colab_type": "text"
      },
      "source": [
        "<a href=\"https://colab.research.google.com/github/Vissarapubhargavi12/BAISIC-CODING-QUESTIONS/blob/main/test_1.ipynb\" target=\"_parent\"><img src=\"https://colab.research.google.com/assets/colab-badge.svg\" alt=\"Open In Colab\"/></a>"
      ]
    },
    {
      "cell_type": "code",
      "execution_count": null,
      "metadata": {
        "colab": {
          "base_uri": "https://localhost:8080/"
        },
        "id": "qkCLqwwjmvQ8",
        "outputId": "3885cd61-886d-4cb5-99fb-0dfc2a4ea978"
      },
      "outputs": [
        {
          "output_type": "stream",
          "name": "stdout",
          "text": [
            "7\n",
            "10\n"
          ]
        }
      ],
      "source": [
        "def SmallLargeSum(arr):\n",
        "    if len(arr) <= 3:\n",
        "        return 0\n",
        "    even_indices = [arr[i] for i in range(0, len(arr), 2)]\n",
        "    odd_indices = [arr[i] for i in range(1, len(arr), 2)]\n",
        "    even_indices.sort(reverse=True)\n",
        "    odd_indices.sort(reverse=True)\n",
        "    second_largest_even = even_indices[1] if len(even_indices) > 1 else 0\n",
        "    second_largest_odd = odd_indices[1] if len(odd_indices) > 1 else 0\n",
        "    return second_largest_even + second_largest_odd\n",
        "arr1 = [3, 2, 1, 7, 5, 4]\n",
        "print(SmallLargeSum(arr1))\n",
        "arr2 = [4, 0, 7, 9, 6, 4, 2]\n",
        "print(SmallLargeSum(arr2))\n"
      ]
    },
    {
      "cell_type": "markdown",
      "source": [
        "small large sum"
      ],
      "metadata": {
        "id": "j-VTS3aiw7o-"
      }
    },
    {
      "cell_type": "markdown",
      "source": [
        "password checker"
      ],
      "metadata": {
        "id": "ulMF5IF-xCQQ"
      }
    },
    {
      "cell_type": "code",
      "source": [
        "password = input(\"Enter the password: \")\n",
        "if len(password) < 4:\n",
        "    print(0)\n",
        "else:\n",
        "    if password[0].isdigit():\n",
        "        print(0)\n",
        "    else:\n",
        "        has_digit = False\n",
        "        has_upper = False\n",
        "        has_lower = False\n",
        "        has_invalid_char = False\n",
        "\n",
        "        for char in password:\n",
        "            if char.isdigit():\n",
        "                has_digit = True\n",
        "            elif char.isupper():\n",
        "                has_upper = True\n",
        "            elif char.islower():\n",
        "                has_lower = True\n",
        "            elif char == ' ' or char == '/':\n",
        "                has_invalid_char = True\n",
        "                break\n",
        "\n",
        "        if has_digit and has_upper and has_lower and not has_invalid_char:\n",
        "            print(1)\n",
        "        else:\n",
        "            print(0)\n"
      ],
      "metadata": {
        "colab": {
          "base_uri": "https://localhost:8080/"
        },
        "id": "xPNxir-XsR-p",
        "outputId": "d0b682ca-594d-41d9-b3de-38922aba8c33"
      },
      "execution_count": null,
      "outputs": [
        {
          "output_type": "stream",
          "name": "stdout",
          "text": [
            "Enter the password: bB1_89\n",
            "1\n"
          ]
        }
      ]
    },
    {
      "cell_type": "markdown",
      "source": [
        "Calculate binary operations"
      ],
      "metadata": {
        "id": "pEeNYfFVxLRF"
      }
    },
    {
      "cell_type": "code",
      "source": [
        "def CalculateBinaryOperations(binary_str):\n",
        "    if not binary_str:\n",
        "        return -1\n",
        "    result = int(binary_str[0])\n",
        "    for i in range(1, len(binary_str), 2):\n",
        "        operator = binary_str[i]\n",
        "        next_num = int(binary_str[i + 1])\n",
        "\n",
        "        if operator == 'A':\n",
        "            result &= next_num\n",
        "        elif operator == 'B':\n",
        "            result |= next_num\n",
        "        elif operator == 'C':\n",
        "            result ^= next_num\n",
        "\n",
        "    return result\n",
        "\n",
        "sample_input = \"1C0C1C1A0B1\"\n",
        "output = CalculateBinaryOperations(sample_input)\n",
        "print(output)\n",
        "\n"
      ],
      "metadata": {
        "id": "i3Abb7CCw55E",
        "colab": {
          "base_uri": "https://localhost:8080/"
        },
        "outputId": "45c0ec52-ff66-4534-fac1-2d16d95e5e76"
      },
      "execution_count": null,
      "outputs": [
        {
          "output_type": "stream",
          "name": "stdout",
          "text": [
            "1\n"
          ]
        }
      ]
    },
    {
      "cell_type": "code",
      "source": [
        "def find_max_in_array(arr):\n",
        "    max_value = arr[0]\n",
        "    max_index = 0\n",
        "    for i in range(1, len(arr)):\n",
        "        if arr[i] > max_value:\n",
        "            max_value = arr[i]\n",
        "            max_index = i\n",
        "    print(max_value)\n",
        "    print(max_index)\n",
        "arr = [15, 78, 96, 17, 20, 65, 14, 36, 18, 20]\n",
        "find_max_in_array(arr)\n"
      ],
      "metadata": {
        "id": "LMV8Ps345Vhd"
      },
      "execution_count": null,
      "outputs": []
    }
  ]
}