{
  "nbformat": 4,
  "nbformat_minor": 0,
  "metadata": {
    "colab": {
      "provenance": [],
      "authorship_tag": "ABX9TyNkWO47W9xEOEcsYI85txXv",
      "include_colab_link": true
    },
    "kernelspec": {
      "name": "python3",
      "display_name": "Python 3"
    },
    "language_info": {
      "name": "python"
    }
  },
  "cells": [
    {
      "cell_type": "markdown",
      "metadata": {
        "id": "view-in-github",
        "colab_type": "text"
      },
      "source": [
        "<a href=\"https://colab.research.google.com/github/Vissarapubhargavi12/BAISIC-CODING-QUESTIONS/blob/main/test_1.ipynb\" target=\"_parent\"><img src=\"https://colab.research.google.com/assets/colab-badge.svg\" alt=\"Open In Colab\"/></a>"
      ]
    },
    {
      "cell_type": "code",
      "execution_count": null,
      "metadata": {
        "colab": {
          "base_uri": "https://localhost:8080/"
        },
        "id": "qkCLqwwjmvQ8",
        "outputId": "3885cd61-886d-4cb5-99fb-0dfc2a4ea978"
      },
      "outputs": [
        {
          "output_type": "stream",
          "name": "stdout",
          "text": [
            "7\n",
            "10\n"
          ]
        }
      ],
      "source": [
        "def SmallLargeSum(arr):\n",
        "    if len(arr) <= 3:\n",
        "        return 0\n",
        "    even_indices = [arr[i] for i in range(0, len(arr), 2)]\n",
        "    odd_indices = [arr[i] for i in range(1, len(arr), 2)]\n",
        "    even_indices.sort(reverse=True)\n",
        "    odd_indices.sort(reverse=True)\n",
        "    second_largest_even = even_indices[1] if len(even_indices) > 1 else 0\n",
        "    second_largest_odd = odd_indices[1] if len(odd_indices) > 1 else 0\n",
        "    return second_largest_even + second_largest_odd\n",
        "arr1 = [3, 2, 1, 7, 5, 4]\n",
        "print(SmallLargeSum(arr1))\n",
        "arr2 = [4, 0, 7, 9, 6, 4, 2]\n",
        "print(SmallLargeSum(arr2))\n"
      ]
    },
    {
      "cell_type": "markdown",
      "source": [
        "small large sum"
      ],
      "metadata": {
        "id": "j-VTS3aiw7o-"
      }
    },
    {
      "cell_type": "markdown",
      "source": [
        "password checker"
      ],
      "metadata": {
        "id": "ulMF5IF-xCQQ"
      }
    },
    {
      "cell_type": "code",
      "source": [
        "password = input(\"Enter the password: \")\n",
        "if len(password) < 4:\n",
        "    print(0)\n",
        "else:\n",
        "    if password[0].isdigit():\n",
        "        print(0)\n",
        "    else:\n",
        "        has_digit = False\n",
        "        has_upper = False\n",
        "        has_lower = False\n",
        "        has_invalid_char = False\n",
        "\n",
        "        for char in password:\n",
        "            if char.isdigit():\n",
        "                has_digit = True\n",
        "            elif char.isupper():\n",
        "                has_upper = True\n",
        "            elif char.islower():\n",
        "                has_lower = True\n",
        "            elif char == ' ' or char == '/':\n",
        "                has_invalid_char = True\n",
        "                break\n",
        "\n",
        "        if has_digit and has_upper and has_lower and not has_invalid_char:\n",
        "            print(1)\n",
        "        else:\n",
        "            print(0)\n"
      ],
      "metadata": {
        "colab": {
          "base_uri": "https://localhost:8080/"
        },
        "id": "xPNxir-XsR-p",
        "outputId": "d0b682ca-594d-41d9-b3de-38922aba8c33"
      },
      "execution_count": null,
      "outputs": [
        {
          "output_type": "stream",
          "name": "stdout",
          "text": [
            "Enter the password: bB1_89\n",
            "1\n"
          ]
        }
      ]
    },
    {
      "cell_type": "markdown",
      "source": [
        "Calculate binary operations"
      ],
      "metadata": {
        "id": "pEeNYfFVxLRF"
      }
    },
    {
      "cell_type": "code",
      "source": [
        "def CalculateBinaryOperations(binary_str):\n",
        "    if not binary_str:\n",
        "        return -1\n",
        "    result = int(binary_str[0])\n",
        "    for i in range(1, len(binary_str), 2):\n",
        "        operator = binary_str[i]\n",
        "        next_num = int(binary_str[i + 1])\n",
        "\n",
        "        if operator == 'A':\n",
        "            result &= next_num\n",
        "        elif operator == 'B':\n",
        "            result |= next_num\n",
        "        elif operator == 'C':\n",
        "            result ^= next_num\n",
        "\n",
        "    return result\n",
        "\n",
        "sample_input = \"1C0C1C1A0B1\"\n",
        "output = CalculateBinaryOperations(sample_input)\n",
        "print(output)\n",
        "\n"
      ],
      "metadata": {
        "id": "i3Abb7CCw55E",
        "colab": {
          "base_uri": "https://localhost:8080/"
        },
        "outputId": "45c0ec52-ff66-4534-fac1-2d16d95e5e76"
      },
      "execution_count": null,
      "outputs": [
        {
          "output_type": "stream",
          "name": "stdout",
          "text": [
            "1\n"
          ]
        }
      ]
    },
    {
      "cell_type": "code",
      "source": [
        "def find_max_in_array(arr):\n",
        "    max_value = arr[0]\n",
        "    max_index = 0\n",
        "    for i in range(1, len(arr)):\n",
        "        if arr[i] > max_value:\n",
        "            max_value = arr[i]\n",
        "            max_index = i\n",
        "    print(max_value)\n",
        "    print(max_index)\n",
        "arr = [15, 78, 96, 17, 20, 65, 14, 36, 18, 20]\n",
        "find_max_in_array(arr)\n"
      ],
      "metadata": {
        "id": "LMV8Ps345Vhd"
      },
      "execution_count": null,
      "outputs": []
    },
    {
      "cell_type": "code",
      "source": [
        "def OperationChoice(c,a,b):\n",
        "  if c==1:\n",
        "    return a+b\n",
        "  elif c==2:\n",
        "    return a-b\n",
        "  elif c==3:\n",
        "    return a*b\n",
        "  elif c==4:\n",
        "    return a/b\n",
        "  else:\n",
        "    return\"invalid\"\n",
        "c=2\n",
        "a=35\n",
        "b=56\n",
        "print(OperationChoice(c,a,b))\n",
        ""
      ],
      "metadata": {
        "colab": {
          "base_uri": "https://localhost:8080/"
        },
        "id": "DGaXZ7k-9hjw",
        "outputId": "f8607b12-8fea-4dff-cd4a-8d259dc6224f"
      },
      "execution_count": 1,
      "outputs": [
        {
          "output_type": "stream",
          "name": "stdout",
          "text": [
            "-21\n"
          ]
        }
      ]
    },
    {
      "cell_type": "code",
      "source": [
        "def differenceofSum(a, b):\n",
        "    sum_divisible_by_b = 0\n",
        "    sum_not_divisible_by_b = 0\n",
        "\n",
        "    for i in range(1, a + 1):\n",
        "        if i % b == 0:\n",
        "            sum_divisible_by_b += i\n",
        "        else:\n",
        "            sum_not_divisible_by_b += i\n",
        "    difference = sum_not_divisible_by_b - sum_divisible_by_b\n",
        "    return difference\n",
        "a = 6\n",
        "b = 30\n",
        "print(differenceofSum(100, 7))\n",
        "\n",
        "\n",
        "\n",
        "\n"
      ],
      "metadata": {
        "colab": {
          "base_uri": "https://localhost:8080/"
        },
        "id": "V9X8rYqI_kQU",
        "outputId": "6f380334-4ee7-4561-e53c-0ec6e24f4e75"
      },
      "execution_count": 2,
      "outputs": [
        {
          "output_type": "stream",
          "name": "stdout",
          "text": [
            "3580\n"
          ]
        }
      ]
    },
    {
      "cell_type": "code",
      "source": [
        "def differenceofSum(a, b):\n",
        "    sum_divisible_by_b = 0\n",
        "    sum_not_divisible_by_b = 0\n",
        "    for i in range(1, a + 1):\n",
        "        if i % b == 0:\n",
        "            sum_divisible_by_b += i\n",
        "        else:\n",
        "            sum_not_divisible_by_b += i\n",
        "    difference = sum_not_divisible_by_b - sum_divisible_by_b\n",
        "    return difference\n",
        "a = 6\n",
        "b = 30\n",
        "print(differenceofSum(100, 7))\n"
      ],
      "metadata": {
        "colab": {
          "base_uri": "https://localhost:8080/"
        },
        "id": "pQUBjgIuBstY",
        "outputId": "6ea34038-5566-4bae-d496-8885ea9aca84"
      },
      "execution_count": 3,
      "outputs": [
        {
          "output_type": "stream",
          "name": "stdout",
          "text": [
            "3580\n"
          ]
        }
      ]
    },
    {
      "cell_type": "code",
      "source": [
        "def differenceofSum(a, b):\n",
        "    sum_divisible_by_b = 0\n",
        "    sum_not_divisible_by_b = 0\n",
        "\n",
        "    for i in range(1, a + 1):\n",
        "        if i % b == 0:\n",
        "            sum_divisible_by_b += i\n",
        "        else:\n",
        "            sum_not_divisible_by_b += i\n",
        "\n",
        "    difference = sum_not_divisible_by_b - sum_divisible_by_b\n",
        "    return difference\n",
        "\n",
        "# Sample Test Case\n",
        "a = 100\n",
        "b = 7\n",
        "print(differenceofSum(a, b))  # Output should be 285\n",
        "\n"
      ],
      "metadata": {
        "colab": {
          "base_uri": "https://localhost:8080/"
        },
        "id": "zKoazy96B9pH",
        "outputId": "6de664c5-e216-4d82-9c1c-86421657a67b"
      },
      "execution_count": 4,
      "outputs": [
        {
          "output_type": "stream",
          "name": "stdout",
          "text": [
            "3580\n"
          ]
        }
      ]
    },
    {
      "cell_type": "code",
      "source": [
        "def differenceofSum(a, b):\n",
        "    sum_divisible_by_b = 0\n",
        "    sum_not_divisible_by_b = 0\n",
        "    for i in range(1, a + 1):\n",
        "        if i % b == 0:\n",
        "            sum_divisible_by_b += i\n",
        "        else:\n",
        "            sum_not_divisible_by_b += i\n",
        "    difference = sum_not_divisible_by_b - sum_divisible_by_b\n",
        "    return difference\n",
        "a = 200\n",
        "b = 485\n",
        "print(differenceofSum(a, b))\n",
        "\n"
      ],
      "metadata": {
        "colab": {
          "base_uri": "https://localhost:8080/"
        },
        "id": "taQHFOz3CSpg",
        "outputId": "3820770c-010a-49bc-e3bb-653401d6f3a7"
      },
      "execution_count": 7,
      "outputs": [
        {
          "output_type": "stream",
          "name": "stdout",
          "text": [
            "20100\n"
          ]
        }
      ]
    },
    {
      "cell_type": "code",
      "source": [
        "string1 = \"learn\"\n",
        "string2 = \"simple\"\n",
        "str1 = string1.replace(\" \",\" \").lower()\n",
        "str2 = string2.replace(\" \" ,\"\").lower()\n",
        "Anagram = sorted(str1) == sorted(str2)\n",
        "print(Anagram)"
      ],
      "metadata": {
        "colab": {
          "base_uri": "https://localhost:8080/"
        },
        "id": "9Bf70z8XDiSX",
        "outputId": "674738d0-5cbb-447a-c4e4-8db7d52c906f"
      },
      "execution_count": 8,
      "outputs": [
        {
          "output_type": "stream",
          "name": "stdout",
          "text": [
            "False\n"
          ]
        }
      ]
    },
    {
      "cell_type": "code",
      "source": [
        "def are_anagrams(str1, str2):\n",
        "    str1 = str1.replace(\" \", \"\").lower()\n",
        "    str2 = str2.replace(\" \", \"\").lower()\n",
        "    sorted_str1 = sorted(str1)\n",
        "    sorted_str2 = sorted(str2)\n",
        "    if sorted_str1 == sorted_str2:\n",
        "        return \"yes\"\n",
        "    else:\n",
        "        return \"no\"\n",
        "str1 = \"learn\"\n",
        "str2 = \"simple\"\n",
        "print(are_anagrams(str1, str2))\n"
      ],
      "metadata": {
        "colab": {
          "base_uri": "https://localhost:8080/"
        },
        "id": "u2zNpOwWDYhX",
        "outputId": "0bba6058-b6f4-437c-f36a-c6a844816103"
      },
      "execution_count": 9,
      "outputs": [
        {
          "output_type": "stream",
          "name": "stdout",
          "text": [
            "no\n"
          ]
        }
      ]
    }
  ]
}