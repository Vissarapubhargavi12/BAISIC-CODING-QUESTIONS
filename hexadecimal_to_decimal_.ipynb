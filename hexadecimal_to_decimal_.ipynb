{
  "nbformat": 4,
  "nbformat_minor": 0,
  "metadata": {
    "colab": {
      "provenance": [],
      "authorship_tag": "ABX9TyOtSdJ8pTUPzxZiq1cx/qS0",
      "include_colab_link": true
    },
    "kernelspec": {
      "name": "python3",
      "display_name": "Python 3"
    },
    "language_info": {
      "name": "python"
    }
  },
  "cells": [
    {
      "cell_type": "markdown",
      "metadata": {
        "id": "view-in-github",
        "colab_type": "text"
      },
      "source": [
        "<a href=\"https://colab.research.google.com/github/Vissarapubhargavi12/BAISIC-CODING-QUESTIONS/blob/main/hexadecimal_to_decimal_.ipynb\" target=\"_parent\"><img src=\"https://colab.research.google.com/assets/colab-badge.svg\" alt=\"Open In Colab\"/></a>"
      ]
    },
    {
      "cell_type": "code",
      "execution_count": null,
      "metadata": {
        "colab": {
          "base_uri": "https://localhost:8080/"
        },
        "id": "zGB1zFSxTZG5",
        "outputId": "a7df4663-30c2-4e63-d1df-aa30097774ab"
      },
      "outputs": [
        {
          "output_type": "stream",
          "name": "stdout",
          "text": [
            "154\n",
            "108\n"
          ]
        }
      ],
      "source": [
        "n=int(input())\n",
        "l=list(str(n))\n",
        "l.reverse()\n",
        "decimal=0\n",
        "for i in range(0,len(l)):\n",
        "    decimal+=int(l[i])*pow(8,i)\n",
        "print(decimal)"
      ]
    },
    {
      "cell_type": "markdown",
      "source": [
        "HEXA DECIMAL TO DECIMAL CONVERTIONS\n"
      ],
      "metadata": {
        "id": "3exK9h_2sqVY"
      }
    },
    {
      "cell_type": "code",
      "source": [
        "hex_num = \"1A\"\n",
        "decimal_num = int(hex_num, 16)\n",
        "print(decimal_num)"
      ],
      "metadata": {
        "colab": {
          "base_uri": "https://localhost:8080/"
        },
        "id": "5w9Ezy6LsypT",
        "outputId": "ce0b938b-3348-4aa4-b3f0-9574fadb8a48"
      },
      "execution_count": null,
      "outputs": [
        {
          "output_type": "stream",
          "name": "stdout",
          "text": [
            "26\n"
          ]
        }
      ]
    },
    {
      "cell_type": "code",
      "source": [
        "hex_num = \"1A\"\n",
        "decimal_num = 0\n",
        "hex_map = {'0': 0, '1': 1, '2': 2, '3': 3, '4': 4, '5': 5, '6': 6, '7': 7,\n",
        "           '8': 8, '9': 9, 'A': 10, 'B': 11, 'C': 12, 'D': 13, 'E': 14, 'F': 15}\n",
        "for i, digit in enumerate(reversed(hex_num)):\n",
        "    decimal_num += hex_map[digit] * (16 ** i)\n",
        "print(\"decimal_num\")\n"
      ],
      "metadata": {
        "colab": {
          "base_uri": "https://localhost:8080/"
        },
        "id": "wn54UMGiuPfi",
        "outputId": "c208a893-60f4-457a-e27c-7e0aeca46444"
      },
      "execution_count": null,
      "outputs": [
        {
          "output_type": "stream",
          "name": "stdout",
          "text": [
            "Hexadecimal: 1A -> Decimal: 26\n"
          ]
        }
      ]
    }
  ]
}