{
  "nbformat": 4,
  "nbformat_minor": 0,
  "metadata": {
    "colab": {
      "provenance": [],
      "authorship_tag": "ABX9TyOi6b8DLJ3rd5vQ+5X+K8ll",
      "include_colab_link": true
    },
    "kernelspec": {
      "name": "python3",
      "display_name": "Python 3"
    },
    "language_info": {
      "name": "python"
    }
  },
  "cells": [
    {
      "cell_type": "markdown",
      "metadata": {
        "id": "view-in-github",
        "colab_type": "text"
      },
      "source": [
        "<a href=\"https://colab.research.google.com/github/Vissarapubhargavi12/BAISIC-CODING-QUESTIONS/blob/main/most_sked_accenture_questions.ipynb\" target=\"_parent\"><img src=\"https://colab.research.google.com/assets/colab-badge.svg\" alt=\"Open In Colab\"/></a>"
      ]
    },
    {
      "cell_type": "markdown",
      "source": [
        "USING COUNT"
      ],
      "metadata": {
        "id": "65vKkipCANWG"
      }
    },
    {
      "cell_type": "code",
      "source": [
        "def character_count (s,n,c):\n",
        "  return s.count(c)\n",
        "n1 = \"hello world\"\n",
        "n2 = 10\n",
        "n3 = \"l\"\n",
        "output = character_count(n1,n2,n3)\n",
        "print(output)"
      ],
      "metadata": {
        "colab": {
          "base_uri": "https://localhost:8080/"
        },
        "id": "c4LdxLeQARp2",
        "outputId": "ecec21bc-08c1-4303-f661-18861c85687c"
      },
      "execution_count": null,
      "outputs": [
        {
          "output_type": "stream",
          "name": "stdout",
          "text": [
            "3\n"
          ]
        }
      ]
    },
    {
      "cell_type": "markdown",
      "source": [
        "REBOUND"
      ],
      "metadata": {
        "id": "G3HjTDZMCf7n"
      }
    },
    {
      "cell_type": "code",
      "source": [
        "def rebound_height(H, V, Ve, N):\n",
        "    e = V / Ve\n",
        "    rebound_height = H * (e ** N)\n",
        "    return int(rebound_height)\n",
        "input1 = 10\n",
        "input2 = 20\n",
        "input3 = 5\n",
        "N = 2\n",
        "output = rebound_height(input1, input2, input3, N)\n",
        "print(output)\n",
        "\n"
      ],
      "metadata": {
        "colab": {
          "base_uri": "https://localhost:8080/"
        },
        "id": "gs784VkcEcHl",
        "outputId": "f1b28700-b5ba-4be5-ac1e-00bdb12beca7"
      },
      "execution_count": null,
      "outputs": [
        {
          "output_type": "stream",
          "name": "stdout",
          "text": [
            "160\n"
          ]
        }
      ]
    },
    {
      "cell_type": "markdown",
      "source": [
        "FIND EVEN ODD SUM OF THE ARRAY"
      ],
      "metadata": {
        "id": "wfC7oGXEFS_q"
      }
    },
    {
      "cell_type": "code",
      "source": [
        "def Label_even_odd(A,N):\n",
        "  result =[]\n",
        "  for num in A:\n",
        "     if num%2==0:\n",
        "          result.append(\"even\")\n",
        "     else:\n",
        "          result.append(\"odd\")\n",
        "  return ' '.join(result)\n",
        "n1 = [1,2,3,4,5,6]\n",
        "n2 = 6\n",
        "print(Label_even_odd(n1,n2))\n",
        "\n"
      ],
      "metadata": {
        "colab": {
          "base_uri": "https://localhost:8080/"
        },
        "id": "aAoR_i6LFbn2",
        "outputId": "f9a10aed-5d49-4682-d99d-a78f16eb0679"
      },
      "execution_count": null,
      "outputs": [
        {
          "output_type": "stream",
          "name": "stdout",
          "text": [
            "odd even odd even odd even\n"
          ]
        }
      ]
    },
    {
      "cell_type": "code",
      "source": [
        "def label_even_odd(A, N):\n",
        "    result = []\n",
        "    for num in A:\n",
        "        if num % 2 == 0:\n",
        "            result.append(\"even\")\n",
        "        else:\n",
        "            result.append(\"odd\")\n",
        "    return ' '.join(result)\n",
        "\n",
        "n1 = [1, 2, 3, 4, 5, 6]\n",
        "n2 = 6\n",
        "print(label_even_odd(n1, n2))\n"
      ],
      "metadata": {
        "id": "YushKzyUIQci",
        "colab": {
          "base_uri": "https://localhost:8080/"
        },
        "outputId": "d38280f4-ddfb-4903-b6bf-4d9828ca662c"
      },
      "execution_count": null,
      "outputs": [
        {
          "output_type": "stream",
          "name": "stdout",
          "text": [
            "odd even odd even odd even\n"
          ]
        }
      ]
    },
    {
      "cell_type": "code",
      "source": [
        "def special_fibonacci(N):\n",
        "    if N == 0 or N == 1:\n",
        "        return 1\n",
        "    dp = [0] * (N + 1)\n",
        "    dp[0] = 1\n",
        "    dp[1] = 1\n",
        "    for i in range(2, N + 1):\n",
        "        dp[i] = (dp[i-1] * dp[i-1] + dp[i-2] * dp[i-2]) % 47\n",
        "    return dp[N]\n",
        "N = 10\n",
        "print(special_fibonacci(N))\n"
      ],
      "metadata": {
        "colab": {
          "base_uri": "https://localhost:8080/"
        },
        "id": "JjuPlECQN16p",
        "outputId": "aba7ffce-22fc-4188-f68b-a77733a57dba"
      },
      "execution_count": null,
      "outputs": [
        {
          "output_type": "stream",
          "name": "stdout",
          "text": [
            "17\n"
          ]
        }
      ]
    },
    {
      "cell_type": "markdown",
      "source": [
        "PERMUTATIONS\n"
      ],
      "metadata": {
        "id": "RDsgde2IbH3l"
      }
    },
    {
      "cell_type": "code",
      "source": [
        "def max_permutation_value(strings, N):\n",
        "    vowels = \"aeiouAEIOU\"\n",
        "    max_permutations = 0\n",
        "\n",
        "    for string in strings:\n",
        "        filtered_string = ''\n",
        "        for ch in string:\n",
        "            if ch not in vowels:\n",
        "                filtered_string += ch\n",
        "        length = len(filtered_string)\n",
        "        if length > 0:\n",
        "            permutations = 1\n",
        "            for i in range(1, length + 1):\n",
        "                permutations *= i\n",
        "        else:\n",
        "            permutations = 0\n",
        "        if permutations > max_permutations:\n",
        "            max_permutations = permutations\n",
        "\n",
        "    return max_permutations\n",
        "input1 = [\"hello\", \"cbcd\", \"aaeioU\"]\n",
        "input2 = 3\n",
        "\n",
        "output = max_permutation_value(input1, input2)\n",
        "print(output)\n"
      ],
      "metadata": {
        "id": "W2LPrr-3bLg0"
      },
      "execution_count": null,
      "outputs": []
    },
    {
      "cell_type": "markdown",
      "source": [
        "REVERSE THE ARRAY AND SUM OF THE EVEN POSITIONS VALUES\n",
        "\n"
      ],
      "metadata": {
        "id": "29catZlmixDs"
      }
    },
    {
      "cell_type": "code",
      "source": [
        "def reverse_array_sum(A, N):\n",
        "    A_reversed = A[::-1]\n",
        "    even_position_sum = 0\n",
        "    for i in range(0, N, 2):\n",
        "        even_position_sum += A_reversed[i]\n",
        "\n",
        "    return even_position_sum\n",
        "A = [10, 20, 30, 40, 50, 60]\n",
        "N = 6\n",
        "result = reverse_array_sum(A, N)\n",
        "print(result)\n"
      ],
      "metadata": {
        "id": "Lh_pdBREmbD4"
      },
      "execution_count": null,
      "outputs": []
    },
    {
      "cell_type": "code",
      "source": [
        "def reverse_array_sum(A, N):\n",
        "    reversed_array = A[::-1]\n",
        "    even_position_sum = 0\n",
        "    for i in range(0, N, 2):\n",
        "        even_position_sum += reversed_array[i]\n",
        "\n",
        "    return even_position_sum\n",
        "A = [14, 23, 45.67, 89]\n",
        "N = len(A)\n",
        "\n",
        "print(reverse_array_sum(A, N))\n"
      ],
      "metadata": {
        "colab": {
          "base_uri": "https://localhost:8080/"
        },
        "id": "EdSOZH3tnbxJ",
        "outputId": "8e5a0460-1159-4c9a-8bbb-a5bdd2cc5d94"
      },
      "execution_count": null,
      "outputs": [
        {
          "output_type": "stream",
          "name": "stdout",
          "text": [
            "112\n"
          ]
        }
      ]
    },
    {
      "cell_type": "markdown",
      "source": [
        "PRIME NUMBER PICNIC"
      ],
      "metadata": {
        "id": "9MTmJXjrntlN"
      }
    },
    {
      "cell_type": "code",
      "source": [
        "def sum_of_primes(n):\n",
        "    if n < 2:\n",
        "        return 0\n",
        "\n",
        "    primes = [True] * (n + 1)\n",
        "    primes[0] = primes[1] = False\n",
        "\n",
        "    for i in range(2, int(n**0.5) + 1):\n",
        "        if primes[i]:\n",
        "            for j in range(i * i, n + 1, i):\n",
        "                primes[j] = False\n",
        "\n",
        "    return sum(i for i in range(n + 1) if primes[i])\n",
        "n = int(input(\"Enter a number: \"))\n",
        "print(sum_of_primes(n))\n"
      ],
      "metadata": {
        "colab": {
          "base_uri": "https://localhost:8080/"
        },
        "id": "ZBtbfkMGrdcj",
        "outputId": "e7e3d261-0bc8-4f47-b54c-57c23839b396"
      },
      "execution_count": 1,
      "outputs": [
        {
          "output_type": "stream",
          "name": "stdout",
          "text": [
            "Enter a number: 45\n",
            "281\n"
          ]
        }
      ]
    },
    {
      "cell_type": "markdown",
      "source": [
        "STABILIZE THE SYSTEM"
      ],
      "metadata": {
        "id": "Mw4UHxgZuYZb"
      }
    },
    {
      "cell_type": "code",
      "source": [
        "def stabilize_system(n):\n",
        "    return int(str(n).replace('0', '5'))\n",
        "\n",
        "n = int(input(\"Enter a number: \"))\n",
        "print(stabilize_system(n))\n"
      ],
      "metadata": {
        "colab": {
          "base_uri": "https://localhost:8080/"
        },
        "id": "VnmzjyH0t9is",
        "outputId": "f50839f7-0cb9-4a19-8f59-607efea6a1f0"
      },
      "execution_count": 2,
      "outputs": [
        {
          "output_type": "stream",
          "name": "stdout",
          "text": [
            "Enter a number: 89\n",
            "89\n"
          ]
        }
      ]
    },
    {
      "cell_type": "markdown",
      "source": [
        "PRODUCT PAIR"
      ],
      "metadata": {
        "id": "pLQlzo42uvXa"
      }
    },
    {
      "cell_type": "code",
      "source": [
        "def count_product_pairs(N, A):\n",
        "    count = 0\n",
        "    for i in range(N):\n",
        "        for j in range(i + 1, N):\n",
        "\n",
        "            if (A[i] * A[j]) % 3 == 0:\n",
        "                count += 1\n",
        "    return count\n",
        "N = int(input(\"Enter the size of the array: \"))\n",
        "A = list(map(int, input(\"Enter the array elements separated by space: \").split()))\n",
        "print(\"Count of unique pairs whose product is a multiple of 3:\", count_product_pairs(N, A))\n"
      ],
      "metadata": {
        "colab": {
          "base_uri": "https://localhost:8080/"
        },
        "id": "xfTxqaLbvgAE",
        "outputId": "383d0042-07fe-46b3-8f0b-dd5a785c819d"
      },
      "execution_count": 6,
      "outputs": [
        {
          "output_type": "stream",
          "name": "stdout",
          "text": [
            "Enter the size of the array: 5\n",
            "Enter the array elements separated by space: 4 6 7 3 5\n",
            "Count of unique pairs whose product is a multiple of 3: 7\n"
          ]
        }
      ]
    }
  ]
}