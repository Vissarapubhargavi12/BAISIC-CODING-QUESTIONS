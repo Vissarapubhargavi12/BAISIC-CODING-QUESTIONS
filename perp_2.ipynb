{
  "nbformat": 4,
  "nbformat_minor": 0,
  "metadata": {
    "colab": {
      "provenance": [],
      "authorship_tag": "ABX9TyO/MEtZaXg5PHQG6bYq4KhE",
      "include_colab_link": true
    },
    "kernelspec": {
      "name": "python3",
      "display_name": "Python 3"
    },
    "language_info": {
      "name": "python"
    }
  },
  "cells": [
    {
      "cell_type": "markdown",
      "metadata": {
        "id": "view-in-github",
        "colab_type": "text"
      },
      "source": [
        "<a href=\"https://colab.research.google.com/github/Vissarapubhargavi12/BAISIC-CODING-QUESTIONS/blob/main/perp_2.ipynb\" target=\"_parent\"><img src=\"https://colab.research.google.com/assets/colab-badge.svg\" alt=\"Open In Colab\"/></a>"
      ]
    },
    {
      "cell_type": "code",
      "execution_count": 1,
      "metadata": {
        "colab": {
          "base_uri": "https://localhost:8080/"
        },
        "id": "GzGN_-BRZGr6",
        "outputId": "270fa12b-324b-4de1-e610-399a81a03d1f"
      },
      "outputs": [
        {
          "output_type": "stream",
          "name": "stdout",
          "text": [
            "18\n"
          ]
        }
      ],
      "source": [
        "def recursum(sum,num1,num2):\n",
        "  if num1>num2:\n",
        "    return sum\n",
        "  return num1+recursum(sum,num1+1,num2)\n",
        "num1,num2=3,6\n",
        "sum=0\n",
        "print(recursum(sum,num1,num2))"
      ]
    },
    {
      "cell_type": "markdown",
      "source": [
        "FIND THE GRATEST NUMBER"
      ],
      "metadata": {
        "id": "sy_nGdrTbI7k"
      }
    },
    {
      "cell_type": "code",
      "source": [
        "num1,num2=9,98\n",
        "if num1>num2:\n",
        "  print(num1)\n",
        "else:\n",
        "  print(num2)"
      ],
      "metadata": {
        "colab": {
          "base_uri": "https://localhost:8080/"
        },
        "id": "lTppQvfiaqe-",
        "outputId": "2f39cac2-ac59-4c99-a3c5-a18959d41625"
      },
      "execution_count": 2,
      "outputs": [
        {
          "output_type": "stream",
          "name": "stdout",
          "text": [
            "98\n"
          ]
        }
      ]
    },
    {
      "cell_type": "markdown",
      "source": [
        "FIND THE GREATEST THREE NUMBERS"
      ],
      "metadata": {
        "id": "_QfrDM_ObPRC"
      }
    },
    {
      "cell_type": "code",
      "source": [
        "num1=90\n",
        "num2=67876\n",
        "num3=6798\n",
        "if num1>num2 and num1>num3:\n",
        "  print(num1)\n",
        "elif num2>num1 and num2>num3:\n",
        "  print(num2)\n",
        "else:\n",
        "  print(num3)\n",
        ""
      ],
      "metadata": {
        "colab": {
          "base_uri": "https://localhost:8080/"
        },
        "id": "ie_jXAThbbC_",
        "outputId": "f3c85be0-9fda-4a11-ae81-46a467d2f9e2"
      },
      "execution_count": 4,
      "outputs": [
        {
          "output_type": "stream",
          "name": "stdout",
          "text": [
            "67876\n"
          ]
        }
      ]
    },
    {
      "cell_type": "markdown",
      "source": [
        "LEAP YEAR OR NOT"
      ],
      "metadata": {
        "id": "6yyGWEBnc2bt"
      }
    },
    {
      "cell_type": "code",
      "source": [
        "year = 20001\n",
        "if(year%4==0 and year%100!=0) or (year%400==0):\n",
        "  print(\"Leap year\")\n",
        "else:\n",
        "  print(\"Not a Leap year\")\n"
      ],
      "metadata": {
        "colab": {
          "base_uri": "https://localhost:8080/"
        },
        "id": "jbrhOSZ-dDUy",
        "outputId": "f2248ef3-f3b6-4228-f5a6-2d940de46304"
      },
      "execution_count": 10,
      "outputs": [
        {
          "output_type": "stream",
          "name": "stdout",
          "text": [
            "Not a Leap year\n"
          ]
        }
      ]
    }
  ]
}