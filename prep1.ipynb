{
  "nbformat": 4,
  "nbformat_minor": 0,
  "metadata": {
    "colab": {
      "provenance": [],
      "authorship_tag": "ABX9TyPPQKYuA75s3VMT/BjdxhNm",
      "include_colab_link": true
    },
    "kernelspec": {
      "name": "python3",
      "display_name": "Python 3"
    },
    "language_info": {
      "name": "python"
    }
  },
  "cells": [
    {
      "cell_type": "markdown",
      "metadata": {
        "id": "view-in-github",
        "colab_type": "text"
      },
      "source": [
        "<a href=\"https://colab.research.google.com/github/Vissarapubhargavi12/BAISIC-CODING-QUESTIONS/blob/main/prep1.ipynb\" target=\"_parent\"><img src=\"https://colab.research.google.com/assets/colab-badge.svg\" alt=\"Open In Colab\"/></a>"
      ]
    },
    {
      "cell_type": "code",
      "execution_count": 3,
      "metadata": {
        "colab": {
          "base_uri": "https://localhost:8080/"
        },
        "id": "4NOopLjOTDyw",
        "outputId": "42031936-582d-4027-8cf4-dc8498ad49c0"
      },
      "outputs": [
        {
          "output_type": "stream",
          "name": "stdout",
          "text": [
            "89\n",
            "odd\n"
          ]
        }
      ],
      "source": [
        "n=int(input())\n",
        "if n%2==0:\n",
        "  print(\"even\")\n",
        "else:\n",
        "  print(\"odd\")"
      ]
    },
    {
      "cell_type": "markdown",
      "source": [
        "EVEN OR ODD"
      ],
      "metadata": {
        "id": "6b_qcDbbW4Dz"
      }
    },
    {
      "cell_type": "markdown",
      "source": [
        "POSITIVE OR NEGATIVE"
      ],
      "metadata": {
        "id": "_3NXKeU7W6mV"
      }
    },
    {
      "cell_type": "code",
      "source": [
        "n = int(input())\n",
        "if n>=0:\n",
        "  print(\"positive\")\n",
        "elif n<=0:\n",
        "  print(\"negative\")\n",
        "else:\n",
        "  print(\"zero\")"
      ],
      "metadata": {
        "colab": {
          "base_uri": "https://localhost:8080/"
        },
        "id": "g-dm6kFJWABy",
        "outputId": "05b00cd8-802c-4fac-d95d-971c6a26838a"
      },
      "execution_count": 6,
      "outputs": [
        {
          "output_type": "stream",
          "name": "stdout",
          "text": [
            "0\n",
            "positive\n"
          ]
        }
      ]
    },
    {
      "cell_type": "markdown",
      "source": [
        "SUM OF N NATIRAL NUMBERS"
      ],
      "metadata": {
        "id": "rSVEDAT3W20r"
      }
    },
    {
      "cell_type": "code",
      "source": [
        "n = int(input())\n",
        "sum = 0\n",
        "for i in range(1,n+1):\n",
        "  sum+=i\n",
        "print(sum)"
      ],
      "metadata": {
        "colab": {
          "base_uri": "https://localhost:8080/"
        },
        "id": "DztdFCkwXE_I",
        "outputId": "d9b7d798-16ac-4e10-f8b4-ee7edaa1e8ed"
      },
      "execution_count": 8,
      "outputs": [
        {
          "output_type": "stream",
          "name": "stdout",
          "text": [
            "5\n",
            "15\n"
          ]
        }
      ]
    },
    {
      "cell_type": "code",
      "source": [
        "n = 5\n",
        "print(int(n*(n+1)/2))"
      ],
      "metadata": {
        "colab": {
          "base_uri": "https://localhost:8080/"
        },
        "id": "Vd8G3MTYZ3RF",
        "outputId": "32269576-e1ac-4572-bd3c-7c2161e83b4d"
      },
      "execution_count": 9,
      "outputs": [
        {
          "output_type": "stream",
          "name": "stdout",
          "text": [
            "15\n"
          ]
        }
      ]
    },
    {
      "cell_type": "code",
      "source": [
        "def getsum(n):\n",
        "  if n==1:\n",
        "    return 1\n",
        "  return n+getsum(n-1)\n",
        "num = 5\n",
        "print(getsum(num))"
      ],
      "metadata": {
        "colab": {
          "base_uri": "https://localhost:8080/"
        },
        "id": "kEM9wOGCaV32",
        "outputId": "0f558c9b-5763-41a8-bf1a-bfeaf4faa799"
      },
      "execution_count": 13,
      "outputs": [
        {
          "output_type": "stream",
          "name": "stdout",
          "text": [
            "15\n"
          ]
        }
      ]
    },
    {
      "cell_type": "code",
      "source": [
        "n = 6\n",
        "sum = 0\n",
        "for i in range(1,n+1):\n",
        "  sum+=i\n",
        "print(sum)"
      ],
      "metadata": {
        "colab": {
          "base_uri": "https://localhost:8080/"
        },
        "id": "KJCuTW2EbO6w",
        "outputId": "73749869-1f21-4d59-b928-1f2e04a4bd2a"
      },
      "execution_count": 14,
      "outputs": [
        {
          "output_type": "stream",
          "name": "stdout",
          "text": [
            "21\n"
          ]
        }
      ]
    },
    {
      "cell_type": "code",
      "source": [
        "n1 = 3\n",
        "n2 = 6\n",
        "sum = 0\n",
        "for i in range(n1,n2+1):\n",
        "  sum+=i\n",
        "print(sum)"
      ],
      "metadata": {
        "colab": {
          "base_uri": "https://localhost:8080/"
        },
        "id": "ESALtjNtbzDw",
        "outputId": "d6bfe566-814d-4e30-b3d5-a99a757ed8b8"
      },
      "execution_count": 18,
      "outputs": [
        {
          "output_type": "stream",
          "name": "stdout",
          "text": [
            "18\n"
          ]
        }
      ]
    }
  ]
}