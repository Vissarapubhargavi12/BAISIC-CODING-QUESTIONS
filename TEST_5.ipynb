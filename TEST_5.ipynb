{
  "nbformat": 4,
  "nbformat_minor": 0,
  "metadata": {
    "colab": {
      "provenance": [],
      "authorship_tag": "ABX9TyOhLVGsXsBVKZ1wsLSGFuDh",
      "include_colab_link": true
    },
    "kernelspec": {
      "name": "python3",
      "display_name": "Python 3"
    },
    "language_info": {
      "name": "python"
    }
  },
  "cells": [
    {
      "cell_type": "markdown",
      "metadata": {
        "id": "view-in-github",
        "colab_type": "text"
      },
      "source": [
        "<a href=\"https://colab.research.google.com/github/Vissarapubhargavi12/BAISIC-CODING-QUESTIONS/blob/main/TEST_5.ipynb\" target=\"_parent\"><img src=\"https://colab.research.google.com/assets/colab-badge.svg\" alt=\"Open In Colab\"/></a>"
      ]
    },
    {
      "cell_type": "markdown",
      "source": [
        "LONGEST PALINDROME SUBSEQUENCE IN A STRING"
      ],
      "metadata": {
        "id": "jHr7zub3r6LN"
      }
    },
    {
      "cell_type": "code",
      "source": [
        "def longest_palindromic_subsequence(s):\n",
        "    n = len(s)\n",
        "    dp = [[0 for _ in range(n)] for _ in range(n)]\n",
        "    for i in range(n):\n",
        "        dp[i][i] = 1\n",
        "    for cl in range(2, n+1):\n",
        "        for i in range(n - cl + 1):\n",
        "            j = i + cl - 1\n",
        "            if s[i] == s[j] and cl == 2:\n",
        "                dp[i][j] = 2\n",
        "            elif s[i] == s[j]:\n",
        "                dp[i][j] = dp[i + 1][j - 1] + 2\n",
        "            else:\n",
        "                dp[i][j] = max(dp[i][j - 1], dp[i + 1][j])\n",
        "    return dp[0][n - 1]\n",
        "s = \"bbabcbcab\"\n",
        "print(\"The length of the longest palindromic subsequence is:\", longest_palindromic_subsequence(s))\n"
      ],
      "metadata": {
        "colab": {
          "base_uri": "https://localhost:8080/"
        },
        "id": "HkXL_o6mtBJR",
        "outputId": "b5bf2535-f6ca-43b7-cc63-a80444a013fb"
      },
      "execution_count": 1,
      "outputs": [
        {
          "output_type": "stream",
          "name": "stdout",
          "text": [
            "The length of the longest palindromic subsequence is: 7\n"
          ]
        }
      ]
    },
    {
      "cell_type": "markdown",
      "source": [
        "PERMUTATIONS OF A STRING"
      ],
      "metadata": {
        "id": "3a1QyQwZtzRA"
      }
    },
    {
      "cell_type": "code",
      "source": [
        "def permute(s,answer=\"\"):\n",
        "    if len(s)==0:\n",
        "       print(answer)\n",
        "       return\n",
        "    for i in range(len(s)):\n",
        "        ch = s[i]\n",
        "        left_substr = s[0:i]\n",
        "        right_substr = s[i+1:]\n",
        "        rest = left_substr + right_substr\n",
        "        permute(rest, answer + ch)\n",
        "s = \"abc\"\n",
        "print(\"All permutations of a string are:\")\n",
        "permute(s,\" \")"
      ],
      "metadata": {
        "colab": {
          "base_uri": "https://localhost:8080/"
        },
        "id": "UMm_fzzTt6l8",
        "outputId": "39edc347-362d-448c-d3b7-c143b0427b58"
      },
      "execution_count": 13,
      "outputs": [
        {
          "output_type": "stream",
          "name": "stdout",
          "text": [
            "All permutations of a string are:\n",
            " abc\n",
            " acb\n",
            " bac\n",
            " bca\n",
            " cab\n",
            " cba\n"
          ]
        }
      ]
    },
    {
      "cell_type": "code",
      "source": [
        "def permute(s, answer=\"\"):\n",
        "    if len(s) == 0:\n",
        "        print(answer)\n",
        "        return\n",
        "\n",
        "    for i in range(len(s)):\n",
        "        ch = s[i]\n",
        "        left_substr = s[:i]\n",
        "        right_substr = s[i+1:]\n",
        "        rest = left_substr + right_substr\n",
        "        permute(rest, answer + ch)\n",
        "\n",
        "s = \"abc\"\n",
        "print(\"All permutations of the string are:\")\n",
        "permute(s)\n"
      ],
      "metadata": {
        "colab": {
          "base_uri": "https://localhost:8080/"
        },
        "id": "qLl6Iv6L0IW2",
        "outputId": "4aa2cee2-f8a9-444f-e84c-653d0957bff2"
      },
      "execution_count": 14,
      "outputs": [
        {
          "output_type": "stream",
          "name": "stdout",
          "text": [
            "All permutations of the string are:\n",
            "abc\n",
            "acb\n",
            "bac\n",
            "bca\n",
            "cab\n",
            "cba\n"
          ]
        }
      ]
    },
    {
      "cell_type": "markdown",
      "source": [
        "HYPHENS"
      ],
      "metadata": {
        "id": "FbZOd0cF1CiX"
      }
    },
    {
      "cell_type": "code",
      "source": [
        "def move_hyphen(str):\n",
        "    if str is None:\n",
        "        return\n",
        "    hyphens = []\n",
        "    others = []\n",
        "    for char in str:\n",
        "        if char == '-':\n",
        "            hyphens.append(char)\n",
        "        else:\n",
        "            others.append(char)\n",
        "    result = ''.join(hyphens) + ''.join(others)\n",
        "    return result\n",
        "str = \"aq-ng-bt\"\n",
        "output = move_hyphen(str)\n",
        "print(output)\n"
      ],
      "metadata": {
        "colab": {
          "base_uri": "https://localhost:8080/"
        },
        "id": "KtXspmqj1IVC",
        "outputId": "7f9fc51e-ac85-4396-8df7-59a8df6094aa"
      },
      "execution_count": 20,
      "outputs": [
        {
          "output_type": "stream",
          "name": "stdout",
          "text": [
            "--aqngbt\n"
          ]
        }
      ]
    },
    {
      "cell_type": "code",
      "source": [
        "def move_hyphen(str):\n",
        "    if str is None:\n",
        "        return\n",
        "    hyphens = []\n",
        "    others = []\n",
        "    for char in str:\n",
        "        if char == '-':\n",
        "            hyphens.append(char)\n",
        "        else:\n",
        "            others.append(char)\n",
        "    result = ''.join(hyphens) + ''.join(others)\n",
        "    return result\n",
        "\n",
        "str = \"aq-ng-bt\"\n",
        "output = move_hyphen(str)\n",
        "print(output)\n"
      ],
      "metadata": {
        "colab": {
          "base_uri": "https://localhost:8080/"
        },
        "id": "SG62ElFk3fmz",
        "outputId": "460b4ad8-01be-4497-d1f2-07d26bca71dc"
      },
      "execution_count": 18,
      "outputs": [
        {
          "output_type": "stream",
          "name": "stdout",
          "text": [
            "--aqngbt\n"
          ]
        }
      ]
    }
  ]
}