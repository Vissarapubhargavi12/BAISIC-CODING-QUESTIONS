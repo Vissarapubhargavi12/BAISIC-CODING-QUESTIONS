{
  "nbformat": 4,
  "nbformat_minor": 0,
  "metadata": {
    "colab": {
      "provenance": [],
      "authorship_tag": "ABX9TyN2kYv59PcQjGn+i+YGxAe2",
      "include_colab_link": true
    },
    "kernelspec": {
      "name": "python3",
      "display_name": "Python 3"
    },
    "language_info": {
      "name": "python"
    }
  },
  "cells": [
    {
      "cell_type": "markdown",
      "metadata": {
        "id": "view-in-github",
        "colab_type": "text"
      },
      "source": [
        "<a href=\"https://colab.research.google.com/github/Vissarapubhargavi12/BAISIC-CODING-QUESTIONS/blob/main/number_series_2.ipynb\" target=\"_parent\"><img src=\"https://colab.research.google.com/assets/colab-badge.svg\" alt=\"Open In Colab\"/></a>"
      ]
    },
    {
      "cell_type": "markdown",
      "source": [
        "GCD (GREATEST COMMON FACTOR)"
      ],
      "metadata": {
        "id": "Q4euf8qbw5VM"
      }
    },
    {
      "cell_type": "code",
      "source": [
        "num1=60\n",
        "num2=48\n",
        "gcd=1\n",
        "for i in range(1,min(num1,num2)):\n",
        "  if num1%i==0 and num2%i==0:\n",
        "    gcd=i\n",
        "print(gcd)"
      ],
      "metadata": {
        "colab": {
          "base_uri": "https://localhost:8080/"
        },
        "id": "DZ10chr9w_ei",
        "outputId": "d724d5c1-0c6a-483b-cc42-891652037128"
      },
      "execution_count": null,
      "outputs": [
        {
          "output_type": "stream",
          "name": "stdout",
          "text": [
            "12\n"
          ]
        }
      ]
    },
    {
      "cell_type": "code",
      "source": [
        "import math\n",
        "num1=60\n",
        "num2=56\n",
        "gcd=math.gcd(num1,num2)\n",
        "print(gcd)"
      ],
      "metadata": {
        "colab": {
          "base_uri": "https://localhost:8080/"
        },
        "id": "CKm8RJ7YyfvE",
        "outputId": "ca91c713-9ee4-4697-d717-a7dd3316577f"
      },
      "execution_count": null,
      "outputs": [
        {
          "output_type": "stream",
          "name": "stdout",
          "text": [
            "4\n"
          ]
        }
      ]
    },
    {
      "cell_type": "markdown",
      "source": [
        "BINARY TO DECIMAL"
      ],
      "metadata": {
        "id": "jWKRXnaA1SEX"
      }
    },
    {
      "cell_type": "code",
      "source": [
        "bin(25)"
      ],
      "metadata": {
        "colab": {
          "base_uri": "https://localhost:8080/",
          "height": 36
        },
        "id": "kB8otFuq1X7q",
        "outputId": "ce34442a-b225-49f5-d5d6-1a2096edebb7"
      },
      "execution_count": null,
      "outputs": [
        {
          "output_type": "execute_result",
          "data": {
            "text/plain": [
              "'0b11001'"
            ],
            "application/vnd.google.colaboratory.intrinsic+json": {
              "type": "string"
            }
          },
          "metadata": {},
          "execution_count": 3
        }
      ]
    },
    {
      "cell_type": "code",
      "source": [
        "n=8\n",
        "print(bin(n)[2:])"
      ],
      "metadata": {
        "colab": {
          "base_uri": "https://localhost:8080/"
        },
        "id": "Ti8BvBgQ2BBv",
        "outputId": "4d347c69-080c-4ef9-8320-a678857ac250"
      },
      "execution_count": null,
      "outputs": [
        {
          "output_type": "stream",
          "name": "stdout",
          "text": [
            "1000\n"
          ]
        }
      ]
    },
    {
      "cell_type": "code",
      "source": [
        "binary_number = \"1101\"\n",
        "decimal_number = int(binary_number, 2)\n",
        "\n",
        "print(\"The decimal value is:\", decimal_number)"
      ],
      "metadata": {
        "colab": {
          "base_uri": "https://localhost:8080/"
        },
        "id": "E9PizxqR5bcQ",
        "outputId": "59a8e771-f151-43a6-da5d-af9e84f59e06"
      },
      "execution_count": 1,
      "outputs": [
        {
          "output_type": "stream",
          "name": "stdout",
          "text": [
            "The decimal value is: 13\n"
          ]
        }
      ]
    },
    {
      "cell_type": "code",
      "source": [
        "binary_number = \"1101\"\n",
        "decimal_number = 0\n",
        "for i in range(len(binary_number)):\n",
        "    decimal_number+=int(binary_number[i])*(2**(len(binary_number)-1 -i))\n",
        "print(\"The decimal value is:\",decimal_number)"
      ],
      "metadata": {
        "colab": {
          "base_uri": "https://localhost:8080/"
        },
        "id": "4RuZZirr8weu",
        "outputId": "3dd3f3f7-0538-4dc7-bd2d-27e690fae14b"
      },
      "execution_count": 6,
      "outputs": [
        {
          "output_type": "stream",
          "name": "stdout",
          "text": [
            "The decimal value is: 13\n"
          ]
        }
      ]
    },
    {
      "cell_type": "code",
      "source": [
        "\n",
        "binary_number = \"1101\"\n",
        "decimal_number = 0\n",
        "for index, bit in enumerate(reversed(binary_number)):\n",
        "    decimal_number += int(bit) * (2 ** index)\n",
        "\n",
        "print(\"The decimal value is:\", decimal_number)\n"
      ],
      "metadata": {
        "colab": {
          "base_uri": "https://localhost:8080/"
        },
        "id": "i3RndgoD_7Kr",
        "outputId": "f77f6aa0-0250-4585-91dc-30e588ea7785"
      },
      "execution_count": 7,
      "outputs": [
        {
          "output_type": "stream",
          "name": "stdout",
          "text": [
            "The decimal value is: 13\n"
          ]
        }
      ]
    },
    {
      "cell_type": "markdown",
      "source": [
        "OCTAL TO DECIMAL CONVERTION"
      ],
      "metadata": {
        "id": "rmZdwVlxFotP"
      }
    },
    {
      "cell_type": "code",
      "source": [
        "octal_number = \"157\"\n",
        "decimal_number = int(octal_number, 8)\n",
        "print(\"The decimal value is:\", decimal_number)\n"
      ],
      "metadata": {
        "colab": {
          "base_uri": "https://localhost:8080/"
        },
        "id": "rUvUWHaXF6Hk",
        "outputId": "ac372ade-9b08-4219-9c66-c1da5de0c01c"
      },
      "execution_count": 8,
      "outputs": [
        {
          "output_type": "stream",
          "name": "stdout",
          "text": [
            "The decimal value is: 111\n"
          ]
        }
      ]
    }
  ]
}