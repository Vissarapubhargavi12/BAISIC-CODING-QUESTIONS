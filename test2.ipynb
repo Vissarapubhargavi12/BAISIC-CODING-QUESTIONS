{
  "nbformat": 4,
  "nbformat_minor": 0,
  "metadata": {
    "colab": {
      "provenance": [],
      "authorship_tag": "ABX9TyOQpEsy0499DrLQzBBZdWSF",
      "include_colab_link": true
    },
    "kernelspec": {
      "name": "python3",
      "display_name": "Python 3"
    },
    "language_info": {
      "name": "python"
    }
  },
  "cells": [
    {
      "cell_type": "markdown",
      "metadata": {
        "id": "view-in-github",
        "colab_type": "text"
      },
      "source": [
        "<a href=\"https://colab.research.google.com/github/Vissarapubhargavi12/BAISIC-CODING-QUESTIONS/blob/main/test2.ipynb\" target=\"_parent\"><img src=\"https://colab.research.google.com/assets/colab-badge.svg\" alt=\"Open In Colab\"/></a>"
      ]
    },
    {
      "cell_type": "code",
      "execution_count": 1,
      "metadata": {
        "colab": {
          "base_uri": "https://localhost:8080/"
        },
        "id": "X41QsnKUlari",
        "outputId": "bd9f9d37-01d0-4c92-e6b7-62c72f4f2b6d"
      },
      "outputs": [
        {
          "output_type": "stream",
          "name": "stdout",
          "text": [
            "-21\n"
          ]
        }
      ],
      "source": [
        "def OperationChoice(c,a,b):\n",
        "  if c==1:\n",
        "    return a+b\n",
        "  elif c==2:\n",
        "    return a-b\n",
        "  elif c==3:\n",
        "    return a*b\n",
        "  elif c==4:\n",
        "    return a/b\n",
        "  else:\n",
        "    return\"invalid\"\n",
        "c=2\n",
        "a=35\n",
        "b=56\n",
        "print(OperationChoice(c,a,b))"
      ]
    },
    {
      "cell_type": "code",
      "source": [
        "def are_anagrams(str1, str2):\n",
        "    str1 = str1.replace(\" \", \"\").lower()\n",
        "    str2 = str2.replace(\" \", \"\").lower()\n",
        "    sorted_str1 = sorted(str1)\n",
        "    sorted_str2 = sorted(str2)\n",
        "    if sorted_str1 == sorted_str2:\n",
        "        return \"yes\"\n",
        "    else:\n",
        "        return \"no\"\n",
        "str1 = \"learn\"\n",
        "str2 = \"simple\"\n",
        "print(are_anagrams(str1, str2))\n"
      ],
      "metadata": {
        "colab": {
          "base_uri": "https://localhost:8080/"
        },
        "id": "-IfWwkyOmbsk",
        "outputId": "1db6a9d1-b616-4ce5-b282-b664526ccfe5"
      },
      "execution_count": 3,
      "outputs": [
        {
          "output_type": "stream",
          "name": "stdout",
          "text": [
            "no\n"
          ]
        }
      ]
    },
    {
      "cell_type": "code",
      "source": [
        "def Productsmallpair(sum_val, arr):\n",
        "    if len(arr) < 2:\n",
        "        return -1\n",
        "    arr.sort()\n",
        "    smallest = arr[0]\n",
        "    second_smallest = arr[1]\n",
        "    if smallest + second_smallest <= sum_val:\n",
        "        return smallest * second_smallest\n",
        "    else:\n",
        "        return 0\n",
        "sum_val = 9\n",
        "arr = [5, 4, 2, 3, 9, 1, 7]\n",
        "print(Productsmallpair(sum_val, arr))\n"
      ],
      "metadata": {
        "colab": {
          "base_uri": "https://localhost:8080/"
        },
        "id": "eOj5j1Qgosxw",
        "outputId": "4cb793a5-8866-4f1b-a6eb-aa78e2abbd47"
      },
      "execution_count": 4,
      "outputs": [
        {
          "output_type": "stream",
          "name": "stdout",
          "text": [
            "2\n"
          ]
        }
      ]
    }
  ]
}