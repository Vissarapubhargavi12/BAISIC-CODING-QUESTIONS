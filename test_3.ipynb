{
  "nbformat": 4,
  "nbformat_minor": 0,
  "metadata": {
    "colab": {
      "provenance": [],
      "authorship_tag": "ABX9TyNknCvKXyFyfBFBy3KeH6az",
      "include_colab_link": true
    },
    "kernelspec": {
      "name": "python3",
      "display_name": "Python 3"
    },
    "language_info": {
      "name": "python"
    }
  },
  "cells": [
    {
      "cell_type": "markdown",
      "metadata": {
        "id": "view-in-github",
        "colab_type": "text"
      },
      "source": [
        "<a href=\"https://colab.research.google.com/github/Vissarapubhargavi12/BAISIC-CODING-QUESTIONS/blob/main/test_3.ipynb\" target=\"_parent\"><img src=\"https://colab.research.google.com/assets/colab-badge.svg\" alt=\"Open In Colab\"/></a>"
      ]
    },
    {
      "cell_type": "markdown",
      "source": [
        "REPLACE A CHARACTER"
      ],
      "metadata": {
        "id": "KTg_EKppAha0"
      }
    },
    {
      "cell_type": "code",
      "source": [
        "def replace_character(str1, ch1, ch2):\n",
        "    translation_table = str.maketrans({ch1: ch2, ch2: ch1})\n",
        "    return str1.translate(translation_table)\n",
        "input_str = \"tervpro\"\n",
        "ch1 = 'e'\n",
        "ch2 = 'p'\n",
        "output = replace_character(input_str, ch1, ch2)\n",
        "print(output)\n"
      ],
      "metadata": {
        "colab": {
          "base_uri": "https://localhost:8080/"
        },
        "id": "T44wyc0v_E6_",
        "outputId": "111c3cef-959f-448d-c040-9124e2be2b0a"
      },
      "execution_count": 2,
      "outputs": [
        {
          "output_type": "stream",
          "name": "stdout",
          "text": [
            "tprvero\n"
          ]
        }
      ]
    },
    {
      "cell_type": "markdown",
      "source": [
        "REVERSE A STRING"
      ],
      "metadata": {
        "id": "xgE30XBpA8gx"
      }
    },
    {
      "cell_type": "code",
      "source": [
        "a=\"tervpro\"\n",
        "str=a.split()\n",
        "print(a[::-1])\n",
        "print(str[::-1])\n"
      ],
      "metadata": {
        "colab": {
          "base_uri": "https://localhost:8080/"
        },
        "id": "f22tNA8nA7X2",
        "outputId": "a0a6c7ab-20ad-4df8-af76-28ba53d5f7eb"
      },
      "execution_count": 6,
      "outputs": [
        {
          "output_type": "stream",
          "name": "stdout",
          "text": [
            "orpvret\n",
            "['tervpro']\n"
          ]
        }
      ]
    },
    {
      "cell_type": "code",
      "source": [
        "def reverse_string_wordwise(s):\n",
        "    words = s.split()\n",
        "    reversed_words = words[::-1]\n",
        "    return ' '.join(reversed_words)\n",
        "input_str1 = \"terv pro\"\n",
        "output1 = reverse_string_wordwise(input_str1)\n",
        "print(output1)\n",
        "input_str2 = \"Welcome to Sunday samayal\"\n",
        "output2 = reverse_string_wordwise(input_str2)\n",
        "print(output2)\n"
      ],
      "metadata": {
        "id": "4VjDVw8NCDNT",
        "colab": {
          "base_uri": "https://localhost:8080/"
        },
        "outputId": "99175404-f201-488f-efff-4dff90523bfa"
      },
      "execution_count": 4,
      "outputs": [
        {
          "output_type": "stream",
          "name": "stdout",
          "text": [
            "pro terv\n",
            "samayal Sunday to Welcome\n"
          ]
        }
      ]
    },
    {
      "cell_type": "code",
      "source": [
        "def food_for_rats(r, unit, arr):\n",
        "    if arr is None:\n",
        "        return -1\n",
        "    total_food_required = r * unit\n",
        "    food_accumulated = 0\n",
        "    houses_count = 0\n",
        "    for food in arr:\n",
        "        food_accumulated += food\n",
        "        houses_count += 1\n",
        "        if food_accumulated >= total_food_required:\n",
        "            return houses_count\n",
        "    return 0\n",
        "r = 7\n",
        "unit = 2\n",
        "arr = [2, 8, 3, 5, 7, 4, 1, 2]\n",
        "\n",
        "output = food_for_rats(r, unit, arr)\n",
        "print(output)\n"
      ],
      "metadata": {
        "colab": {
          "base_uri": "https://localhost:8080/"
        },
        "id": "RG7Mp6n_WrT8",
        "outputId": "970e95ef-4e46-4f7e-884f-76fb117c9c09"
      },
      "execution_count": 7,
      "outputs": [
        {
          "output_type": "stream",
          "name": "stdout",
          "text": [
            "4\n"
          ]
        }
      ]
    },
    {
      "cell_type": "code",
      "source": [
        "def Replacecharacter(str1, ch1, ch2):\n",
        "    str1 = str1.replace(ch1,'#')\n",
        "    str1 = str1.replace(ch2, ch1)\n",
        "    str1 = str1.replace('#',ch2)\n",
        "    return str1\n",
        "str1 = \"tervpro\"\n",
        "ch1 = 'e'\n",
        "ch2 = 'p'\n",
        "output = Replacecharacter(str1, ch1, ch2)\n",
        "print(output)\n"
      ],
      "metadata": {
        "colab": {
          "base_uri": "https://localhost:8080/"
        },
        "id": "Let09-VHcx2d",
        "outputId": "c541afe2-9d64-48a3-df3d-07fc98a99764"
      },
      "execution_count": 8,
      "outputs": [
        {
          "output_type": "stream",
          "name": "stdout",
          "text": [
            "tprvero\n"
          ]
        }
      ]
    },
    {
      "cell_type": "code",
      "source": [
        "def findcount(arr,length,num,diff):\n",
        "    count=0\n",
        "    for i in range(length):\n",
        "        if abs(arr[i]-num)<=diff:\n",
        "            count+=1\n",
        "    if count==0:\n",
        "        return -1\n",
        "    return count\n",
        "arr=[1,2,3,4,5,6]\n",
        "num=6\n",
        "diff=2\n",
        "r=findcount(arr,len(arr),num,diff)\n",
        "print(r)"
      ],
      "metadata": {
        "colab": {
          "base_uri": "https://localhost:8080/"
        },
        "id": "pmNUo1hqdBL8",
        "outputId": "691c440d-9702-4472-e301-70d9b3c4b219"
      },
      "execution_count": 9,
      "outputs": [
        {
          "output_type": "stream",
          "name": "stdout",
          "text": [
            "3\n"
          ]
        }
      ]
    },
    {
      "cell_type": "code",
      "source": [
        "def rev_str_words(sentence):\n",
        "    rev_sentence=' '.join(sentence.split()[::-1])\n",
        "    return rev_sentence\n",
        "n=\"terv pro\"\n",
        "result=rev_str_words(n)\n",
        "print(result)\n",
        "\n"
      ],
      "metadata": {
        "colab": {
          "base_uri": "https://localhost:8080/"
        },
        "id": "lzlpdLBvdTwJ",
        "outputId": "2d9e9d2c-01f0-4640-9ddf-4e47f81f8594"
      },
      "execution_count": 10,
      "outputs": [
        {
          "output_type": "stream",
          "name": "stdout",
          "text": [
            "pro terv\n"
          ]
        }
      ]
    },
    {
      "cell_type": "code",
      "source": [
        "r = 7\n",
        "unit = 2\n",
        "arr = [2, 8, 3, 5, 7, 4, 1, 2]\n",
        "n = 8\n",
        "if n == 0:\n",
        "    print(-1)\n",
        "else:\n",
        "    total_food = r * unit\n",
        "    total_food_available = 0\n",
        "    house_count = 0\n",
        "    for food in arr:\n",
        "        total_food_available += food\n",
        "        house_count += 1\n",
        "        if total_food_available >= total_food:\n",
        "            print(house_count)\n",
        "            break\n"
      ],
      "metadata": {
        "colab": {
          "base_uri": "https://localhost:8080/"
        },
        "id": "bgBuFEo1fsIw",
        "outputId": "f9807fd1-e442-449a-fc45-9f1cd1a64f1b"
      },
      "execution_count": 11,
      "outputs": [
        {
          "output_type": "stream",
          "name": "stdout",
          "text": [
            "4\n"
          ]
        }
      ]
    }
  ]
}