{
  "nbformat": 4,
  "nbformat_minor": 0,
  "metadata": {
    "colab": {
      "provenance": [],
      "authorship_tag": "ABX9TyPETkRinTSxfgSAvdCyxTdp",
      "include_colab_link": true
    },
    "kernelspec": {
      "name": "python3",
      "display_name": "Python 3"
    },
    "language_info": {
      "name": "python"
    }
  },
  "cells": [
    {
      "cell_type": "markdown",
      "metadata": {
        "id": "view-in-github",
        "colab_type": "text"
      },
      "source": [
        "<a href=\"https://colab.research.google.com/github/Vissarapubhargavi12/BAISIC-CODING-QUESTIONS/blob/main/CONVERTIONS_3.ipynb\" target=\"_parent\"><img src=\"https://colab.research.google.com/assets/colab-badge.svg\" alt=\"Open In Colab\"/></a>"
      ]
    },
    {
      "cell_type": "code",
      "execution_count": null,
      "metadata": {
        "id": "e_yl06I0_4XD"
      },
      "outputs": [],
      "source": []
    },
    {
      "cell_type": "markdown",
      "source": [
        "DECIMAL TO OCTAL CONVERTION"
      ],
      "metadata": {
        "id": "7IsVe1bu_9C2"
      }
    },
    {
      "cell_type": "code",
      "source": [
        "decimal_num = 156\n",
        "octal_num = oct(decimal_num)\n",
        "print(octal_num)\n"
      ],
      "metadata": {
        "colab": {
          "base_uri": "https://localhost:8080/"
        },
        "id": "609OTeGUANTU",
        "outputId": "0e04d5a0-ffa2-4c8c-a55e-5e4f881fd868"
      },
      "execution_count": 1,
      "outputs": [
        {
          "output_type": "stream",
          "name": "stdout",
          "text": [
            "0o234\n"
          ]
        }
      ]
    },
    {
      "cell_type": "code",
      "source": [
        "decimal_num = 176\n",
        "octal_num = oct(decimal_num)[2:]\n",
        "print(octal_num)"
      ],
      "metadata": {
        "colab": {
          "base_uri": "https://localhost:8080/"
        },
        "id": "kxn9-QslA8MW",
        "outputId": "156bc319-1df3-4374-e4d9-fb4bef953714"
      },
      "execution_count": 2,
      "outputs": [
        {
          "output_type": "stream",
          "name": "stdout",
          "text": [
            "260\n"
          ]
        }
      ]
    },
    {
      "cell_type": "code",
      "source": [
        "decimal_num = 176\n",
        "octal_num =\"\"\n",
        "while decimal_num>0:\n",
        "  remainder = decimal_num%8\n",
        "  octal_num = str(remainder)+octal_num\n",
        "  decimal_num = decimal_num//8\n",
        "print(octal_num)"
      ],
      "metadata": {
        "colab": {
          "base_uri": "https://localhost:8080/"
        },
        "id": "NwXB-IrOBkzG",
        "outputId": "b828e737-6766-48af-9a39-11543bcb089f"
      },
      "execution_count": 3,
      "outputs": [
        {
          "output_type": "stream",
          "name": "stdout",
          "text": [
            "260\n"
          ]
        }
      ]
    }
  ]
}