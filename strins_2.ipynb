{
  "nbformat": 4,
  "nbformat_minor": 0,
  "metadata": {
    "colab": {
      "provenance": [],
      "authorship_tag": "ABX9TyM2/W7conup6GZIPOCD27JO",
      "include_colab_link": true
    },
    "kernelspec": {
      "name": "python3",
      "display_name": "Python 3"
    },
    "language_info": {
      "name": "python"
    }
  },
  "cells": [
    {
      "cell_type": "markdown",
      "metadata": {
        "id": "view-in-github",
        "colab_type": "text"
      },
      "source": [
        "<a href=\"https://colab.research.google.com/github/Vissarapubhargavi12/BAISIC-CODING-QUESTIONS/blob/main/strins_2.ipynb\" target=\"_parent\"><img src=\"https://colab.research.google.com/assets/colab-badge.svg\" alt=\"Open In Colab\"/></a>"
      ]
    },
    {
      "cell_type": "code",
      "execution_count": 1,
      "metadata": {
        "colab": {
          "base_uri": "https://localhost:8080/"
        },
        "id": "gmKDvM2cIOkb",
        "outputId": "f2f3fb5c-a1db-4a63-c834-0f5962d2db70"
      },
      "outputs": [
        {
          "output_type": "stream",
          "name": "stdout",
          "text": [
            "vyedybcb\n",
            "bcbydeyv\n"
          ]
        }
      ],
      "source": [
        "str=input()\n",
        "str=str[::-1]\n",
        "print(str)"
      ]
    },
    {
      "cell_type": "code",
      "source": [
        "str=input()\n",
        "str1=\" \"\n",
        "for i in range(len(str)-1,-1,-1):\n",
        "    str1+=str[i]\n",
        "print(str1)"
      ],
      "metadata": {
        "colab": {
          "base_uri": "https://localhost:8080/"
        },
        "id": "ohXUrg9kIoY0",
        "outputId": "3c2343a4-9972-4404-c6c2-4bae4b529210"
      },
      "execution_count": 2,
      "outputs": [
        {
          "output_type": "stream",
          "name": "stdout",
          "text": [
            "cuybd\n",
            " dbyuc\n"
          ]
        }
      ]
    },
    {
      "cell_type": "code",
      "source": [
        "str=input()\n",
        "words=str.split()\n",
        "rev_words=words[::-1]\n",
        "print(\" \".join(rev_words))"
      ],
      "metadata": {
        "colab": {
          "base_uri": "https://localhost:8080/"
        },
        "id": "oglNmb3IJwom",
        "outputId": "f7b82527-042f-4d06-fbdf-adbfcc3a06ee"
      },
      "execution_count": 4,
      "outputs": [
        {
          "output_type": "stream",
          "name": "stdout",
          "text": [
            "bhargavi is good girl\n",
            "girl good is bhargavi\n"
          ]
        }
      ]
    }
  ]
}