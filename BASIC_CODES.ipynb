{
  "nbformat": 4,
  "nbformat_minor": 0,
  "metadata": {
    "colab": {
      "provenance": [],
      "authorship_tag": "ABX9TyPed8zsbwRhPCpt17zidLZI",
      "include_colab_link": true
    },
    "kernelspec": {
      "name": "python3",
      "display_name": "Python 3"
    },
    "language_info": {
      "name": "python"
    }
  },
  "cells": [
    {
      "cell_type": "markdown",
      "metadata": {
        "id": "view-in-github",
        "colab_type": "text"
      },
      "source": [
        "<a href=\"https://colab.research.google.com/github/Vissarapubhargavi12/BAISIC-CODING-QUESTIONS/blob/main/BASIC_CODES.ipynb\" target=\"_parent\"><img src=\"https://colab.research.google.com/assets/colab-badge.svg\" alt=\"Open In Colab\"/></a>"
      ]
    },
    {
      "cell_type": "markdown",
      "source": [
        "ATOMORPHIC"
      ],
      "metadata": {
        "id": "FQYAZtOBxbRk"
      }
    },
    {
      "cell_type": "code",
      "source": [
        "n=int(input())\n",
        "m=n*n\n",
        "num=m%10\n",
        "if num==n:\n",
        "  print(\"Automorphic\")\n",
        "else:\n",
        "  print(\"Not Automarpic\")\n"
      ],
      "metadata": {
        "colab": {
          "base_uri": "https://localhost:8080/"
        },
        "id": "ndY0N0n9xh7H",
        "outputId": "49e246cc-d19d-43b8-927a-f311ca78bf53"
      },
      "execution_count": null,
      "outputs": [
        {
          "output_type": "stream",
          "name": "stdout",
          "text": [
            "9\n",
            "Not Automarpic\n"
          ]
        }
      ]
    },
    {
      "cell_type": "markdown",
      "source": [
        "ABUNDANT"
      ],
      "metadata": {
        "id": "44Sk2Wh7zaEl"
      }
    },
    {
      "cell_type": "code",
      "source": [
        "n=int(input())\n",
        "sum=0\n",
        "for i in range(1,n):\n",
        "  if n%i==0:\n",
        "    sum=sum+i\n",
        "if sum>n:\n",
        "    print(\"Abundant\")\n",
        "else:\n",
        "    print(\"Not Abundant\")"
      ],
      "metadata": {
        "colab": {
          "base_uri": "https://localhost:8080/"
        },
        "id": "3lgeudY9zeI0",
        "outputId": "a7b51162-c81e-4bc0-f2ff-7f8dbcd1485f"
      },
      "execution_count": 8,
      "outputs": [
        {
          "output_type": "stream",
          "name": "stdout",
          "text": [
            "56\n",
            "Abundant\n"
          ]
        }
      ]
    },
    {
      "cell_type": "markdown",
      "source": [
        "HARSHAD NUMBER"
      ],
      "metadata": {
        "id": "H9mqoFmW2rCx"
      }
    },
    {
      "cell_type": "code",
      "source": [
        "n=int(input())\n",
        "sum=0\n",
        "rem=n%10\n",
        "while(rem>0):\n",
        "  rem=n%10\n",
        "  sum=sum+rem\n",
        "  n=n//10\n",
        "if n%sum==0:\n",
        "  print(\"Harshad\")\n",
        "else:\n",
        "  print(\"Not Harshad\")"
      ],
      "metadata": {
        "colab": {
          "base_uri": "https://localhost:8080/"
        },
        "id": "AXDzSPCa2rvB",
        "outputId": "e80ab864-f67f-4e6d-998b-5350e655d708"
      },
      "execution_count": 7,
      "outputs": [
        {
          "output_type": "stream",
          "name": "stdout",
          "text": [
            "23\n",
            "Harshad\n"
          ]
        }
      ]
    },
    {
      "cell_type": "markdown",
      "source": [
        "FRIENDLY PAIR"
      ],
      "metadata": {
        "id": "GJutIqxH6c86"
      }
    },
    {
      "cell_type": "code",
      "source": [
        "n1=int(input())\n",
        "n2=int(input())\n",
        "sum1=0\n",
        "sum2=0\n",
        "for i in range(1,n1):\n",
        "  if n1%i==0:\n",
        "    sum1=sum1+i\n",
        "for j in range(1,n2):\n",
        "  if n2%j==0:\n",
        "    sum2=sum2+j\n",
        "if sum1/n1==sum/n2:\n",
        "  print(\"friendly pair\")\n",
        "else:\n",
        "  print(\"Not friendly pair\")"
      ],
      "metadata": {
        "colab": {
          "base_uri": "https://localhost:8080/"
        },
        "id": "s0cQjxbI6gty",
        "outputId": "2c3cf03d-c947-423d-85cc-b45b17d4531b"
      },
      "execution_count": null,
      "outputs": [
        {
          "output_type": "stream",
          "name": "stdout",
          "text": [
            "6\n",
            "78\n",
            "Not friendly pair\n"
          ]
        }
      ]
    },
    {
      "cell_type": "code",
      "source": [
        "n1 = int(input(\"Enter the first number: \"))\n",
        "n2 = int(input(\"Enter the second number: \"))\n",
        "sum1 = 0\n",
        "sum2 = 0\n",
        "for i in range(1, n1):\n",
        "    if n1 % i == 0:\n",
        "        sum1 += i\n",
        "for j in range(1, n2):\n",
        "    if n2 % j == 0:\n",
        "        sum2 += j\n",
        "if sum1 / n1 == sum2 / n2:\n",
        "    print(\"Friendly pair\")\n",
        "else:\n",
        "    print(\"Not friendly pair\")\n"
      ],
      "metadata": {
        "colab": {
          "base_uri": "https://localhost:8080/"
        },
        "id": "60iWgr1Y85ui",
        "outputId": "2724b1ee-8923-4a65-e317-1ff219400d87"
      },
      "execution_count": 3,
      "outputs": [
        {
          "output_type": "stream",
          "name": "stdout",
          "text": [
            "Enter the first number: 6\n",
            "Enter the second number: 12\n",
            "Not friendly pair\n"
          ]
        }
      ]
    }
  ]
}