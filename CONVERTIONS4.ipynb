{
  "nbformat": 4,
  "nbformat_minor": 0,
  "metadata": {
    "colab": {
      "provenance": [],
      "authorship_tag": "ABX9TyMeQsLU8oWv2XlsABLoHAoL",
      "include_colab_link": true
    },
    "kernelspec": {
      "name": "python3",
      "display_name": "Python 3"
    },
    "language_info": {
      "name": "python"
    }
  },
  "cells": [
    {
      "cell_type": "markdown",
      "metadata": {
        "id": "view-in-github",
        "colab_type": "text"
      },
      "source": [
        "<a href=\"https://colab.research.google.com/github/Vissarapubhargavi12/BAISIC-CODING-QUESTIONS/blob/main/CONVERTIONS4.ipynb\" target=\"_parent\"><img src=\"https://colab.research.google.com/assets/colab-badge.svg\" alt=\"Open In Colab\"/></a>"
      ]
    },
    {
      "cell_type": "markdown",
      "source": [
        "DECIMAL TO HEXA DECIMAL CONVERTIONS"
      ],
      "metadata": {
        "id": "IRdVKFIiEQuX"
      }
    },
    {
      "cell_type": "code",
      "source": [
        "decimal_num = \"255\"\n",
        "hexadecimal_num = hex(int(decimal_num))\n",
        "print(hexadecimal_num)"
      ],
      "metadata": {
        "colab": {
          "base_uri": "https://localhost:8080/"
        },
        "id": "C6h0hCtuEb4e",
        "outputId": "08ef7b22-d326-4fd2-9515-a20e9702ae44"
      },
      "execution_count": null,
      "outputs": [
        {
          "output_type": "stream",
          "name": "stdout",
          "text": [
            "0xff\n"
          ]
        }
      ]
    },
    {
      "cell_type": "code",
      "source": [
        "decimal_num = \"200\"\n",
        "hexadecimal_num = hex(int(decimal_num))[2:]\n",
        "print(hexadecimal_num)"
      ],
      "metadata": {
        "colab": {
          "base_uri": "https://localhost:8080/"
        },
        "id": "XTHYNRZqGCQ2",
        "outputId": "cca9ca87-6767-4609-86d5-cc2c75e965f0"
      },
      "execution_count": null,
      "outputs": [
        {
          "output_type": "stream",
          "name": "stdout",
          "text": [
            "c8\n"
          ]
        }
      ]
    },
    {
      "cell_type": "code",
      "source": [
        "def decimal_to_hexa(decimal_num):\n",
        "  hex_digits = \"0123456789abcdef\"\n",
        "  hexadecimal_num = \"\"\n",
        "  while decimal_num>0:\n",
        "    remainder = decimal_num%16\n",
        "    hexadecimal_num = hex_digits[remainder]+hexadecimal_num\n",
        "    decimal_num = decimal_num//16\n",
        "  return hexadecimal_num\n",
        "decimal_num = 255\n",
        "print(decimal_to_hexa(decimal_num))\n"
      ],
      "metadata": {
        "colab": {
          "base_uri": "https://localhost:8080/"
        },
        "id": "hsMC5QrZG5lY",
        "outputId": "1c0ebf07-d5e3-4e8c-a69b-6361b602b105"
      },
      "execution_count": null,
      "outputs": [
        {
          "output_type": "stream",
          "name": "stdout",
          "text": [
            "ff\n"
          ]
        }
      ]
    },
    {
      "cell_type": "code",
      "source": [
        "def binary_to_octal(binary_str):\n",
        "  decimal_number = int(binary_str,2)\n",
        "  octal_str = oct(decimal_number)[2:]\n",
        "  return octal_str\n",
        "binary_str =\"1010101001\"\n",
        "print(binary_to_octal(binary_str))\n"
      ],
      "metadata": {
        "colab": {
          "base_uri": "https://localhost:8080/"
        },
        "id": "AByc1fFwiG8r",
        "outputId": "7f680236-602d-42d9-e0c7-1774ded394b1"
      },
      "execution_count": 1,
      "outputs": [
        {
          "output_type": "stream",
          "name": "stdout",
          "text": [
            "1251\n"
          ]
        }
      ]
    },
    {
      "cell_type": "code",
      "source": [
        "binary_digit1 = '001'\n",
        "binary_digit2 = '101'\n",
        "binary_digit3 = '110'\n",
        "binary_digit4 = '001'\n",
        "octal_str = binary_digit1 + binary_digit2 + binary_digit3 + binary_digit4\n",
        "\n",
        "print(octal_str)"
      ],
      "metadata": {
        "colab": {
          "base_uri": "https://localhost:8080/"
        },
        "id": "EGSF0MQMmwQR",
        "outputId": "db4a5c7f-a91d-4933-842d-31a4f60d2b8c"
      },
      "execution_count": 4,
      "outputs": [
        {
          "output_type": "stream",
          "name": "stdout",
          "text": [
            "001101110001\n"
          ]
        }
      ]
    },
    {
      "cell_type": "code",
      "source": [
        "binary_str = '11010110101'\n",
        "padded_binary = '00110101101'\n",
        "group1 = padded_binary[0:3]\n",
        "group2 = padded_binary[3:6]\n",
        "group3 = padded_binary[6:9]\n",
        "group4 = padded_binary[9:12]\n",
        "octal_digit1 = '1'\n",
        "octal_digit2 = '5'\n",
        "octal_digit3 = '3'\n",
        "octal_digit4 = '5'\n",
        "octal_str = octal_digit1 + octal_digit2 + octal_digit3 + octal_digit4\n",
        "print(f\"The octal representation of binary '{binary_str}' is '{octal_str}'\")\n"
      ],
      "metadata": {
        "colab": {
          "base_uri": "https://localhost:8080/"
        },
        "id": "rG9YvdJ-qbFo",
        "outputId": "540b7f3c-d89c-4f5a-b64d-a3aeecec0f08"
      },
      "execution_count": 5,
      "outputs": [
        {
          "output_type": "stream",
          "name": "stdout",
          "text": [
            "The octal representation of binary '11010110101' is '1535'\n"
          ]
        }
      ]
    },
    {
      "cell_type": "code",
      "source": [
        "def find_quadrant(x, y):\n",
        "    if x > 0 and y > 0:\n",
        "        return \"Quadrant I\"\n",
        "    elif x < 0 and y > 0:\n",
        "        return \"Quadrant II\"\n",
        "    elif x < 0 and y < 0:\n",
        "        return \"Quadrant III\"\n",
        "    elif x > 0 and y < 0:\n",
        "        return \"Quadrant IV\"\n",
        "    elif x == 0 and y != 0:\n",
        "        return \"On Y-axis\"\n",
        "    elif y == 0 and x != 0:\n",
        "        return \"On X-axis\"\n",
        "    else:\n",
        "        return \"Origin\"\n",
        "x = float(input())\n",
        "y = float(input())\n",
        "quadrant = find_quadrant(x, y)\n",
        "print(quadrant)\n"
      ],
      "metadata": {
        "colab": {
          "base_uri": "https://localhost:8080/"
        },
        "id": "fhWVdMqh1yG6",
        "outputId": "769479ca-993b-48ca-a512-f147cada0877"
      },
      "execution_count": 8,
      "outputs": [
        {
          "output_type": "stream",
          "name": "stdout",
          "text": [
            "-2\n",
            "8\n",
            "Quadrant II\n"
          ]
        }
      ]
    }
  ]
}