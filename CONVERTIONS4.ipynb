{
  "nbformat": 4,
  "nbformat_minor": 0,
  "metadata": {
    "colab": {
      "provenance": [],
      "authorship_tag": "ABX9TyNB2K4lof8vsvwaEKA9LCSE",
      "include_colab_link": true
    },
    "kernelspec": {
      "name": "python3",
      "display_name": "Python 3"
    },
    "language_info": {
      "name": "python"
    }
  },
  "cells": [
    {
      "cell_type": "markdown",
      "metadata": {
        "id": "view-in-github",
        "colab_type": "text"
      },
      "source": [
        "<a href=\"https://colab.research.google.com/github/Vissarapubhargavi12/BAISIC-CODING-QUESTIONS/blob/main/CONVERTIONS4.ipynb\" target=\"_parent\"><img src=\"https://colab.research.google.com/assets/colab-badge.svg\" alt=\"Open In Colab\"/></a>"
      ]
    },
    {
      "cell_type": "markdown",
      "source": [
        "DECIMAL TO HEXA DECIMAL CONVERTIONS"
      ],
      "metadata": {
        "id": "IRdVKFIiEQuX"
      }
    },
    {
      "cell_type": "code",
      "source": [
        "decimal_num = \"255\"\n",
        "hexadecimal_num = hex(int(decimal_num))\n",
        "print(hexadecimal_num)"
      ],
      "metadata": {
        "colab": {
          "base_uri": "https://localhost:8080/"
        },
        "id": "C6h0hCtuEb4e",
        "outputId": "08ef7b22-d326-4fd2-9515-a20e9702ae44"
      },
      "execution_count": null,
      "outputs": [
        {
          "output_type": "stream",
          "name": "stdout",
          "text": [
            "0xff\n"
          ]
        }
      ]
    },
    {
      "cell_type": "code",
      "source": [
        "decimal_num = \"200\"\n",
        "hexadecimal_num = hex(int(decimal_num))[2:]\n",
        "print(hexadecimal_num)"
      ],
      "metadata": {
        "colab": {
          "base_uri": "https://localhost:8080/"
        },
        "id": "XTHYNRZqGCQ2",
        "outputId": "cca9ca87-6767-4609-86d5-cc2c75e965f0"
      },
      "execution_count": null,
      "outputs": [
        {
          "output_type": "stream",
          "name": "stdout",
          "text": [
            "c8\n"
          ]
        }
      ]
    },
    {
      "cell_type": "code",
      "source": [
        "def decimal_to_hexa(decimal_num):\n",
        "  hex_digits = \"0123456789abcdef\"\n",
        "  hexadecimal_num = \"\"\n",
        "  while decimal_num>0:\n",
        "    remainder = decimal_num%16\n",
        "    hexadecimal_num = hex_digits[remainder]+hexadecimal_num\n",
        "    decimal_num = decimal_num//16\n",
        "  return hexadecimal_num\n",
        "decimal_num = 255\n",
        "print(decimal_to_hexa(decimal_num))\n"
      ],
      "metadata": {
        "colab": {
          "base_uri": "https://localhost:8080/"
        },
        "id": "hsMC5QrZG5lY",
        "outputId": "1c0ebf07-d5e3-4e8c-a69b-6361b602b105"
      },
      "execution_count": null,
      "outputs": [
        {
          "output_type": "stream",
          "name": "stdout",
          "text": [
            "ff\n"
          ]
        }
      ]
    },
    {
      "cell_type": "code",
      "source": [
        "def binary_to_octal(binary_str):\n",
        "  decimal_number = int(binary_str,2)\n",
        "  octal_str = oct(decimal_number)[2:]\n",
        "  return octal_str\n",
        "binary_str =\"1010101001\"\n",
        "print(binary_to_octal(binary_str))\n"
      ],
      "metadata": {
        "colab": {
          "base_uri": "https://localhost:8080/"
        },
        "id": "AByc1fFwiG8r",
        "outputId": "7f680236-602d-42d9-e0c7-1774ded394b1"
      },
      "execution_count": null,
      "outputs": [
        {
          "output_type": "stream",
          "name": "stdout",
          "text": [
            "1251\n"
          ]
        }
      ]
    },
    {
      "cell_type": "code",
      "source": [
        "binary_digit1 = '001'\n",
        "binary_digit2 = '101'\n",
        "binary_digit3 = '110'\n",
        "binary_digit4 = '001'\n",
        "octal_str = binary_digit1 + binary_digit2 + binary_digit3 + binary_digit4\n",
        "\n",
        "print(octal_str)"
      ],
      "metadata": {
        "colab": {
          "base_uri": "https://localhost:8080/"
        },
        "id": "EGSF0MQMmwQR",
        "outputId": "db4a5c7f-a91d-4933-842d-31a4f60d2b8c"
      },
      "execution_count": null,
      "outputs": [
        {
          "output_type": "stream",
          "name": "stdout",
          "text": [
            "001101110001\n"
          ]
        }
      ]
    },
    {
      "cell_type": "code",
      "source": [
        "binary_str = '11010110101'\n",
        "padded_binary = '00110101101'\n",
        "group1 = padded_binary[0:3]\n",
        "group2 = padded_binary[3:6]\n",
        "group3 = padded_binary[6:9]\n",
        "group4 = padded_binary[9:12]\n",
        "octal_digit1 = '1'\n",
        "octal_digit2 = '5'\n",
        "octal_digit3 = '3'\n",
        "octal_digit4 = '5'\n",
        "octal_str = octal_digit1 + octal_digit2 + octal_digit3 + octal_digit4\n",
        "print(f\"The octal representation of binary '{binary_str}' is '{octal_str}'\")\n"
      ],
      "metadata": {
        "colab": {
          "base_uri": "https://localhost:8080/"
        },
        "id": "rG9YvdJ-qbFo",
        "outputId": "540b7f3c-d89c-4f5a-b64d-a3aeecec0f08"
      },
      "execution_count": null,
      "outputs": [
        {
          "output_type": "stream",
          "name": "stdout",
          "text": [
            "The octal representation of binary '11010110101' is '1535'\n"
          ]
        }
      ]
    },
    {
      "cell_type": "code",
      "source": [
        "def find_quadrant(x, y):\n",
        "    if x > 0 and y > 0:\n",
        "        return \"Quadrant I\"\n",
        "    elif x < 0 and y > 0:\n",
        "        return \"Quadrant II\"\n",
        "    elif x < 0 and y < 0:\n",
        "        return \"Quadrant III\"\n",
        "    elif x > 0 and y < 0:\n",
        "        return \"Quadrant IV\"\n",
        "    elif x == 0 and y != 0:\n",
        "        return \"On Y-axis\"\n",
        "    elif y == 0 and x != 0:\n",
        "        return \"On X-axis\"\n",
        "    else:\n",
        "        return \"Origin\"\n",
        "x = float(input())\n",
        "y = float(input())\n",
        "quadrant = find_quadrant(x, y)\n",
        "print(quadrant)\n"
      ],
      "metadata": {
        "colab": {
          "base_uri": "https://localhost:8080/"
        },
        "id": "fhWVdMqh1yG6",
        "outputId": "769479ca-993b-48ca-a512-f147cada0877"
      },
      "execution_count": null,
      "outputs": [
        {
          "output_type": "stream",
          "name": "stdout",
          "text": [
            "-2\n",
            "8\n",
            "Quadrant II\n"
          ]
        }
      ]
    },
    {
      "cell_type": "code",
      "source": [],
      "metadata": {
        "id": "GrbOCo2M9ekR"
      },
      "execution_count": null,
      "outputs": []
    },
    {
      "cell_type": "markdown",
      "source": [
        "PERMUTATIONS"
      ],
      "metadata": {
        "id": "ukGy6Q0Y9k4r"
      }
    },
    {
      "cell_type": "code",
      "source": [
        "import math\n",
        "def permutations(n,r):\n",
        "  return math.perm (n,r)\n",
        "n = int(input())\n",
        "r = int(input())\n",
        "print(permutations(n,r))"
      ],
      "metadata": {
        "colab": {
          "base_uri": "https://localhost:8080/"
        },
        "id": "ZVthMCjm9pNM",
        "outputId": "6d545b8e-afac-4a0f-bb8f-be3ddd8f143f"
      },
      "execution_count": 7,
      "outputs": [
        {
          "output_type": "stream",
          "name": "stdout",
          "text": [
            "5\n",
            "3\n",
            "60\n"
          ]
        }
      ]
    },
    {
      "cell_type": "code",
      "source": [
        "import math\n",
        "def permutations(n,r):\n",
        "  return math.factorial(n) // math.factorial(n-r)\n",
        "n = int(input())\n",
        "r = int(input())\n",
        "print(permutations(n,r))\n"
      ],
      "metadata": {
        "colab": {
          "base_uri": "https://localhost:8080/"
        },
        "id": "AfzTs7Qu-1Eh",
        "outputId": "e8ee43c6-a6b6-4d42-bcf1-28dd0ec51e90"
      },
      "execution_count": 9,
      "outputs": [
        {
          "output_type": "stream",
          "name": "stdout",
          "text": [
            "8\n",
            "7\n",
            "40320\n"
          ]
        }
      ]
    },
    {
      "cell_type": "code",
      "source": [
        "n=int(input(\"Enter number of students : \"))\n",
        "r=int(input(\"Enter number of seats : \"))\n",
        "def facts(s):\n",
        "\n",
        "  if s==0:\n",
        "    return 1\n",
        "  else:\n",
        "    return s*facts(s-1)\n",
        "print(facts(n)/facts(n-r))"
      ],
      "metadata": {
        "colab": {
          "base_uri": "https://localhost:8080/"
        },
        "id": "i1wKQ1P3A2ei",
        "outputId": "c3aa2f81-8c92-4a19-beb7-60d51df3e95b"
      },
      "execution_count": 11,
      "outputs": [
        {
          "output_type": "stream",
          "name": "stdout",
          "text": [
            "Enter number of students : 8\n",
            "Enter number of seats : 7\n",
            "40320.0\n"
          ]
        }
      ]
    },
    {
      "cell_type": "markdown",
      "source": [
        "Python Program for Finding Maximum Number Of Handshakes"
      ],
      "metadata": {
        "id": "wdx0a4LFE0O4"
      }
    },
    {
      "cell_type": "code",
      "source": [
        "def max_handshakes(n):\n",
        "  return (n*(n-1))//2\n",
        "n = int(input())\n",
        "print(max_handshakes(n))"
      ],
      "metadata": {
        "colab": {
          "base_uri": "https://localhost:8080/"
        },
        "id": "dtHqqso5E5sf",
        "outputId": "53d43e30-c077-488c-94e9-a761a44c2e89"
      },
      "execution_count": 12,
      "outputs": [
        {
          "output_type": "stream",
          "name": "stdout",
          "text": [
            "9\n",
            "36\n"
          ]
        }
      ]
    },
    {
      "cell_type": "code",
      "source": [
        "n=int(input(\"Enter number of persons: \"))\n",
        "s=0\n",
        "for i in range(1,n+1):\n",
        "  s+=(n-i)\n",
        "print(s)"
      ],
      "metadata": {
        "colab": {
          "base_uri": "https://localhost:8080/"
        },
        "id": "ipLSAQqFFl8u",
        "outputId": "bd2c7676-3b06-4d64-aa4e-15045c57e511"
      },
      "execution_count": 15,
      "outputs": [
        {
          "output_type": "stream",
          "name": "stdout",
          "text": [
            "Enter number of persons: 9\n",
            "36\n"
          ]
        }
      ]
    }
  ]
}