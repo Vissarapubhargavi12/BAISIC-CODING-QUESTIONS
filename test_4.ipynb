{
  "nbformat": 4,
  "nbformat_minor": 0,
  "metadata": {
    "colab": {
      "provenance": [],
      "authorship_tag": "ABX9TyPgXaRGIM9UsYFvBCQ6Ai4q",
      "include_colab_link": true
    },
    "kernelspec": {
      "name": "python3",
      "display_name": "Python 3"
    },
    "language_info": {
      "name": "python"
    }
  },
  "cells": [
    {
      "cell_type": "markdown",
      "metadata": {
        "id": "view-in-github",
        "colab_type": "text"
      },
      "source": [
        "<a href=\"https://colab.research.google.com/github/Vissarapubhargavi12/BAISIC-CODING-QUESTIONS/blob/main/test_4.ipynb\" target=\"_parent\"><img src=\"https://colab.research.google.com/assets/colab-badge.svg\" alt=\"Open In Colab\"/></a>"
      ]
    },
    {
      "cell_type": "code",
      "execution_count": 1,
      "metadata": {
        "colab": {
          "base_uri": "https://localhost:8080/"
        },
        "id": "5rCFQr_Xd_8n",
        "outputId": "0b592cc9-eef1-46b5-cc86-a9ce7bb4246f"
      },
      "outputs": [
        {
          "output_type": "stream",
          "name": "stdout",
          "text": [
            "4BA\n"
          ]
        }
      ],
      "source": [
        "def DectoNBase(n, num):\n",
        "    symbols = \"0123456789ABCDEFGHIJKLMNOPQRSTUVWXYZ\"\n",
        "    n_base_digits = []\n",
        "    while num > 0:\n",
        "        remainder = num % n\n",
        "        n_base_digits.append(symbols[remainder])\n",
        "        num = num // n\n",
        "    n_base_digits.reverse()\n",
        "    return ''.join(n_base_digits)\n",
        "n = 12\n",
        "num = 718\n",
        "print(DectoNBase(n, num))\n"
      ]
    },
    {
      "cell_type": "code",
      "source": [
        "def matrix_even_odd(size, elements):\n",
        "    even_matrix = []\n",
        "    odd_matrix = []\n",
        "    for i in range(size):\n",
        "        if i % 2 == 0:\n",
        "            even_matrix.append(elements[i])\n",
        "        else:\n",
        "            odd_matrix.append(elements[i])\n",
        "    even_matrix.sort()\n",
        "    odd_matrix.sort()\n",
        "    second_largest_even = even_matrix[-2] if len(even_matrix) >= 2 else even_matrix[-1]\n",
        "    second_largest_odd = odd_matrix[-2] if len(odd_matrix) >= 2 else odd_matrix[-1]\n",
        "    total_sum = second_largest_even + second_largest_odd\n",
        "    return total_sum\n",
        "size = 5\n",
        "elements = [3, 4, 1, 7, 9]\n",
        "result = matrix_even_odd(size, elements)\n",
        "print(\"Sum =\", result)\n"
      ],
      "metadata": {
        "colab": {
          "base_uri": "https://localhost:8080/"
        },
        "id": "Oo9QYdmRr-yp",
        "outputId": "4ea393af-21c8-4b81-c2d7-e72c9118f953"
      },
      "execution_count": 2,
      "outputs": [
        {
          "output_type": "stream",
          "name": "stdout",
          "text": [
            "Sum = 7\n"
          ]
        }
      ]
    },
    {
      "cell_type": "code",
      "source": [
        "def Calculate(m, n):\n",
        "    total_sum = 0\n",
        "    for i in range(m, n + 1):\n",
        "        if i % 15 == 0:\n",
        "            total_sum += i\n",
        "\n",
        "    return total_sum\n",
        "m = 12\n",
        "n = 50\n",
        "print(Calculate(m, n))\n",
        "\n",
        "m = 100\n",
        "n = 160\n",
        "print(Calculate(m, n))\n"
      ],
      "metadata": {
        "colab": {
          "base_uri": "https://localhost:8080/"
        },
        "id": "xDSwjmWCv_x3",
        "outputId": "0f845bd0-7cbe-42e8-dd7f-807d8f606d3e"
      },
      "execution_count": 5,
      "outputs": [
        {
          "output_type": "stream",
          "name": "stdout",
          "text": [
            "90\n",
            "510\n"
          ]
        }
      ]
    },
    {
      "cell_type": "code",
      "source": [
        "def longest_common_subsequence(str1, str2):\n",
        "    m = len(str1)\n",
        "    n = len(str2)\n",
        "\n",
        "    # Create a 2D array to store lengths of LCS\n",
        "    dp = [[0] * (n + 1) for _ in range(m + 1)]\n",
        "\n",
        "    # Build the dp array from the bottom up\n",
        "    for i in range(1, m + 1):\n",
        "        for j in range(1, n + 1):\n",
        "            if str1[i - 1] == str2[j - 1]:\n",
        "                dp[i][j] = dp[i - 1][j - 1] + 1\n",
        "            else:\n",
        "                dp[i][j] = max(dp[i - 1][j], dp[i][j - 1])\n",
        "\n",
        "    # The length of the LCS is in the bottom-right cell\n",
        "    return dp[m][n]\n",
        "\n",
        "# Example usage:\n",
        "str1 = \"ABCBDAB\"\n",
        "str2 = \"BDCAB\"\n",
        "print(\"Length of LCS:\", longest_common_subsequence(str1, str2))  # Output should be 4\n"
      ],
      "metadata": {
        "colab": {
          "base_uri": "https://localhost:8080/"
        },
        "id": "82hgYCJlxz0X",
        "outputId": "f9e8f37f-07a6-41f8-8f8f-32dc25a4be94"
      },
      "execution_count": 6,
      "outputs": [
        {
          "output_type": "stream",
          "name": "stdout",
          "text": [
            "Length of LCS: 4\n"
          ]
        }
      ]
    }
  ]
}