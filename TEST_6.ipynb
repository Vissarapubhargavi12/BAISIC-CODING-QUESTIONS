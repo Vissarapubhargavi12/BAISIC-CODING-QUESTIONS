{
  "nbformat": 4,
  "nbformat_minor": 0,
  "metadata": {
    "colab": {
      "provenance": [],
      "authorship_tag": "ABX9TyPZ/WLlNGTd93PZx+VjX0Yy",
      "include_colab_link": true
    },
    "kernelspec": {
      "name": "python3",
      "display_name": "Python 3"
    },
    "language_info": {
      "name": "python"
    }
  },
  "cells": [
    {
      "cell_type": "markdown",
      "metadata": {
        "id": "view-in-github",
        "colab_type": "text"
      },
      "source": [
        "<a href=\"https://colab.research.google.com/github/Vissarapubhargavi12/BAISIC-CODING-QUESTIONS/blob/main/TEST_6.ipynb\" target=\"_parent\"><img src=\"https://colab.research.google.com/assets/colab-badge.svg\" alt=\"Open In Colab\"/></a>"
      ]
    },
    {
      "cell_type": "code",
      "execution_count": 1,
      "metadata": {
        "colab": {
          "base_uri": "https://localhost:8080/"
        },
        "id": "v0Lt2WRuB31K",
        "outputId": "6def329e-393b-4229-e0ab-25e675ce4dad"
      },
      "outputs": [
        {
          "output_type": "stream",
          "name": "stdout",
          "text": [
            "3\n"
          ]
        }
      ],
      "source": [
        "def min_refueling_stops(X, N, fuel):\n",
        "    fuel.sort(reverse=True)\n",
        "\n",
        "    refueling_stops = 0\n",
        "    leftover_fuel = 0\n",
        "\n",
        "    for i in range(N):\n",
        "        fuel[i] += leftover_fuel\n",
        "\n",
        "        if fuel[i] < X:\n",
        "            refueling_stops += 1\n",
        "            leftover_fuel = 0\n",
        "        else:\n",
        "            leftover_fuel = fuel[i] - X\n",
        "\n",
        "    return refueling_stops\n",
        "X = 10\n",
        "N = 5\n",
        "fuel = [4, 8, 15, 3, 5]\n",
        "\n",
        "print(min_refueling_stops(X, N, fuel))"
      ]
    },
    {
      "cell_type": "code",
      "source": [
        "def winning_move(M):\n",
        "    if M == \"rock\":\n",
        "        return \"paper\"\n",
        "    elif M == \"paper\":\n",
        "        return \"scissors\"\n",
        "    elif M == \"scissors\":\n",
        "        return \"rock\"\n",
        "    else:\n",
        "        return \"Invalid input\"\n",
        "\n",
        "M=input(\"enter the value:\")\n",
        "print(winning_move(M))"
      ],
      "metadata": {
        "colab": {
          "base_uri": "https://localhost:8080/"
        },
        "id": "Io6BCIAuI-jV",
        "outputId": "4218df7f-e558-4677-a941-f1717be44290"
      },
      "execution_count": 4,
      "outputs": [
        {
          "output_type": "stream",
          "name": "stdout",
          "text": [
            "enter the value:rock\n",
            "paper\n"
          ]
        }
      ]
    },
    {
      "cell_type": "code",
      "source": [
        "def count_magical_numbers(N):\n",
        "    magical_count = 0\n",
        "\n",
        "    for num in range(1, N+1):\n",
        "        binary_rep = bin(num)[2:]\n",
        "        modified_binary = binary_rep.replace('0', '1').replace('1', '2')\n",
        "        digit_sum = sum(int(digit) for digit in modified_binary)\n",
        "        if digit_sum % 2 != 0:\n",
        "            magical_count += 1\n",
        "\n",
        "    return magical_count\n",
        "N = 2\n",
        "print(count_magical_numbers(N))"
      ],
      "metadata": {
        "colab": {
          "base_uri": "https://localhost:8080/"
        },
        "id": "J-BZFWRKNdvW",
        "outputId": "40165b72-7701-4685-f2c8-db9ca7c810b9"
      },
      "execution_count": 5,
      "outputs": [
        {
          "output_type": "stream",
          "name": "stdout",
          "text": [
            "0\n"
          ]
        }
      ]
    }
  ]
}